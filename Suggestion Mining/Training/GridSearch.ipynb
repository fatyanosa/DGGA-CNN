{
 "cells": [
  {
   "cell_type": "markdown",
   "metadata": {
    "colab_type": "text",
    "id": "M_LY1NAEY1ru"
   },
   "source": [
    "# Utility"
   ]
  },
  {
   "cell_type": "code",
   "execution_count": 1,
   "metadata": {
    "colab": {
     "base_uri": "https://localhost:8080/",
     "height": 34
    },
    "colab_type": "code",
    "executionInfo": {
     "elapsed": 83294,
     "status": "ok",
     "timestamp": 1577438026010,
     "user": {
      "displayName": "Tirana Fatyanosa",
      "photoUrl": "",
      "userId": "06846734566535525129"
     },
     "user_tz": -540
    },
    "id": "HcHw4Om8XvLm",
    "outputId": "7a698f96-8ce7-425f-d8bd-39036b66df5e"
   },
   "outputs": [
    {
     "name": "stderr",
     "output_type": "stream",
     "text": [
      "Using TensorFlow backend.\n"
     ]
    }
   ],
   "source": [
    "import pandas as pd\n",
    "from sklearn.metrics import accuracy_score, f1_score, precision_score, recall_score\n",
    "import numpy as np\n",
    "import tensorflow as tf\n",
    "from keras import backend as K\n",
    "\n",
    "class utility:\n",
    "\n",
    "    def read_CSV(self, filename):\n",
    "        df = pd.read_csv(filename)\n",
    "        return df\n",
    "\n",
    "    def get_text_label(self, df):\n",
    "        texts = []  # list of text samples\n",
    "        labels = []  # list of label ids\n",
    "        for index, row in df.iterrows():\n",
    "            if isinstance(row['sentence'], float):\n",
    "                texts.append(str(row['sentence']))\n",
    "            else:\n",
    "                texts.append(row['sentence'])\n",
    "\n",
    "            labels.append(row['label'])\n",
    "\n",
    "        return texts, labels\n",
    "\n",
    "    def tokenize_texts(self, texts):\n",
    "        tokenizer = tf.keras.preprocessing.text.Tokenizer(num_words=5000)\n",
    "        tokenizer.fit_on_texts(texts)\n",
    "\n",
    "        return tokenizer\n",
    "\n",
    "    def padding_texts(self, texts, maxlen):\n",
    "\n",
    "        texts = tf.keras.preprocessing.sequence.pad_sequences(texts, padding='post', maxlen=maxlen)\n",
    "\n",
    "        return texts\n",
    "\n",
    "    def get_metric(self, y_true, y_pred):\n",
    "        accuracyScore = accuracy_score(y_true, y_pred)\n",
    "\n",
    "        # binary: Only report results for the class specified by pos_label. This is applicable only if targets (y_{true,pred}) are binary.\n",
    "        precisionScoreBinary = precision_score(y_true, y_pred, average='binary')\n",
    "        recallScoreBinary = recall_score(y_true, y_pred, average='binary')\n",
    "        f1ScoreBinary = f1_score(y_true, y_pred, average='binary')\n",
    "\n",
    "        # Macro: Calculate metrics for each label, and find their unweighted mean. This does not take label imbalance into account.\n",
    "        f1ScoreMacro = f1_score(y_true, y_pred, average='macro')\n",
    "\n",
    "        # Micro: Calculate metrics globally by counting the total true positives, false negatives and false positives.\n",
    "        f1ScoreMicro = f1_score(y_true, y_pred, average='micro')\n",
    "\n",
    "        # Weighted: Calculate metrics for each label, and find their average weighted by support\n",
    "        # (the number of true instances for each label).\n",
    "        # This alters ‘macro’ to account for label imbalance;\n",
    "        # it can result in an F-score that is not between precision and recall.\n",
    "        f1ScoreWeighted = f1_score(y_true, y_pred, average='weighted')\n",
    "\n",
    "        # None: the scores for each class are returned\n",
    "        f1Score = f1_score(y_true, y_pred, average=None)\n",
    "        # , f1ScoreMacro, f1ScoreMicro, f1ScoreWeighted, f1Score\n",
    "\n",
    "        # self.print_metric(accuracyScore, precisionScoreBinary, recallScoreBinary, f1ScoreBinary)\n",
    "        return accuracyScore, precisionScoreBinary, recallScoreBinary, f1ScoreBinary\n",
    "\n",
    "    def print_metric(self, accuracyScore, precisionScoreBinary, recallScoreBinary, f1ScoreBinary):\n",
    "        print(\"Accuracy: \" + str(accuracyScore))\n",
    "        print(\"Precision: \" + str(precisionScoreBinary))\n",
    "        print(\"Recall: \" + str(recallScoreBinary))\n",
    "        print(\"F1-Score: \" + str(f1ScoreBinary))\n",
    "        print(str(accuracyScore) + \",\" + str(precisionScoreBinary) + \",\" + str(recallScoreBinary) + \",\" + str(\n",
    "            f1ScoreBinary))\n",
    "\n",
    "    def get_testing_metric(self, y_test, y_pred):\n",
    "        # metric for Testing Data\n",
    "        # print(\"Testing Data\")\n",
    "        accuracyScore, precisionScoreBinary, recallScoreBinary, f1ScoreBinary = self.get_metric(y_test, y_pred)\n",
    "        # print()\n",
    "\n",
    "        return accuracyScore, precisionScoreBinary, recallScoreBinary, f1ScoreBinary\n",
    "\n",
    "    def write_df_csv(self, df, out_path):\n",
    "        df.to_csv(out_path, index=False)\n",
    "\n",
    "    def create_embedding_matrix(self, filepath, word_index, embedding_dim):\n",
    "        vocab_size = len(word_index) + 1  # Adding again 1 because of reserved 0 index\n",
    "        embedding_matrix = np.zeros((vocab_size, embedding_dim))\n",
    "\n",
    "        with open(filepath, encoding=\"utf8\") as f:\n",
    "            for line in f:\n",
    "                word, *vector = line.split()\n",
    "                if word in word_index:\n",
    "                    idx = word_index[word]\n",
    "                    embedding_matrix[idx] = np.array(\n",
    "                        vector, dtype=np.float32)[:embedding_dim]\n",
    "\n",
    "        return embedding_matrix\n",
    "\n",
    "    def get_max_length_of_sentences(self, texts):\n",
    "        maxlength = 0\n",
    "        for text in texts:\n",
    "            if (len(text.split()) > maxlength):\n",
    "                maxlength = len(text.split())\n",
    "\n",
    "        return maxlength\n",
    "\n",
    "    def get_training_val_data(self, textsTraining, labelsTraining, train_index, val_index, glovePath):\n",
    "        textsTraining, textsTesting = np.asarray(textsTraining)[train_index], np.asarray(textsTraining)[val_index]\n",
    "        y_train, y_val = np.asarray(labelsTraining)[train_index], np.asarray(labelsTraining)[val_index]\n",
    "\n",
    "        # Tokenize words\n",
    "        tokenizer = self.tokenize_texts(textsTraining)\n",
    "        X_train = tokenizer.texts_to_sequences(textsTraining)\n",
    "        X_val = tokenizer.texts_to_sequences(textsTesting)\n",
    "\n",
    "        # Adding 1 because of reserved 0 index\n",
    "        vocab_size = len(tokenizer.word_index) + 1\n",
    "\n",
    "        # get maxlen\n",
    "        maxlen = self.get_max_length_of_sentences(textsTraining)\n",
    "\n",
    "        # Pad sequences with zeros\n",
    "        X_train = self.padding_texts(X_train, maxlen)\n",
    "        X_val = self.padding_texts(X_val, maxlen)\n",
    "\n",
    "        embedding_matrix = []\n",
    "        embedding_matrix.append(self.create_embedding_matrix(glovePath[0], tokenizer.word_index, 50))\n",
    "        embedding_matrix.append(self.create_embedding_matrix(glovePath[1], tokenizer.word_index, 100))\n",
    "        embedding_matrix.append(self.create_embedding_matrix(glovePath[2], tokenizer.word_index, 200))\n",
    "        embedding_matrix.append(self.create_embedding_matrix(glovePath[3], tokenizer.word_index, 300))\n",
    "\n",
    "        return X_train, X_val, y_train, y_val, vocab_size, maxlen, embedding_matrix\n",
    "\n",
    "    def Average(self, list):\n",
    "        return sum(list) / len(list)\n",
    "\n",
    "    def recall_m(self, y_true, y_pred):\n",
    "        true_positives = K.sum(K.round(K.clip(y_true * y_pred, 0, 1)))\n",
    "        possible_positives = K.sum(K.round(K.clip(y_true, 0, 1)))\n",
    "        recall = true_positives / (possible_positives + K.epsilon())\n",
    "        return recall\n",
    "\n",
    "    def precision_m(self, y_true, y_pred):\n",
    "        true_positives = K.sum(K.round(K.clip(y_true * y_pred, 0, 1)))\n",
    "        predicted_positives = K.sum(K.round(K.clip(y_pred, 0, 1)))\n",
    "        precision = true_positives / (predicted_positives + K.epsilon())\n",
    "        return precision\n",
    "\n",
    "    def f1_m(self, y_true, y_pred):\n",
    "        precision = self.precision_m(y_true, y_pred)\n",
    "        recall = self.recall_m(y_true, y_pred)\n",
    "        return 2*((precision*recall)/(precision+recall+K.epsilon()))"
   ]
  },
  {
   "cell_type": "markdown",
   "metadata": {
    "colab_type": "text",
    "id": "jMvyO9qEYx91"
   },
   "source": [
    "# CNN"
   ]
  },
  {
   "cell_type": "code",
   "execution_count": 2,
   "metadata": {
    "colab": {},
    "colab_type": "code",
    "id": "USzyKDK0XT6w"
   },
   "outputs": [],
   "source": [
    "import tensorflow as tf\n",
    "\n",
    "class CNN:\n",
    "\n",
    "    def cnn_model(self, vocab_size, maxlen, embedding_matrix, indiv, path):\n",
    "        model = tf.keras.models.Sequential()\n",
    "        conv_idx = dense_idx = dropout_idx = maxpooling_idx = 0\n",
    "        for layer in path:\n",
    "            if layer == 'embedding_layer':\n",
    "                model.add(\n",
    "                    tf.keras.layers.Embedding(input_dim=vocab_size, output_dim=indiv['output_dim'],\n",
    "                                     weights=[embedding_matrix], input_length=maxlen, trainable=True))\n",
    "            elif layer == 'convolutional_layer':\n",
    "                conv_idx += 1\n",
    "                model.add(tf.keras.layers.Conv1D(indiv['num_filters' + str(conv_idx)], indiv['kernel_size' + str(conv_idx)],\n",
    "                                        kernel_initializer=indiv['conv_init_mode' + str(conv_idx)],\n",
    "                                        activation=indiv['conv_activation_func' + str(conv_idx)],\n",
    "                                        kernel_constraint=tf.keras.constraints.max_norm(indiv['conv_weight_constraint' + str(conv_idx)]),\n",
    "                                        data_format='channels_first'))\n",
    "            elif layer == 'dense_layer':\n",
    "                dense_idx += 1\n",
    "                model.add(tf.keras.layers.Dense(indiv['neurons' + str(dense_idx)],\n",
    "                                       kernel_initializer=indiv['dense_init_mode' + str(dense_idx)],\n",
    "                                       activation=indiv['dense_activation_func' + str(dense_idx)],\n",
    "                                       kernel_constraint=tf.keras.constraints.max_norm(indiv['dense_weight_constraint' + str(dense_idx)])))\n",
    "            elif layer == 'dropout_layer':\n",
    "                dropout_idx += 1\n",
    "                model.add(tf.keras.layers.Dropout(indiv['dropout_rate' + str(dropout_idx)]))\n",
    "            elif layer == 'maxpooling_layer':\n",
    "                maxpooling_idx += 1\n",
    "                model.add(tf.keras.layers.MaxPooling1D(indiv['pool_size' + str(maxpooling_idx)]))\n",
    "            elif layer == 'global_maxpooling_layer':\n",
    "                model.add(tf.keras.layers.GlobalMaxPooling1D())\n",
    "            elif layer == 'output_layer':\n",
    "                model.add(tf.keras.layers.Dense(1, kernel_initializer=indiv['output_init_mode'], activation='sigmoid'))\n",
    "\n",
    "        if indiv['optimizer'] == 'sgd':\n",
    "            opt = tf.keras.optimizers.SGD(lr=indiv['learning_rate'], momentum=indiv['momentum'], decay=0.0,\n",
    "                                 nesterov=False)\n",
    "        elif indiv['optimizer'] == 'rmsprop':\n",
    "            opt = tf.keras.optimizers.RMSprop(lr=indiv['learning_rate'], rho=0.9, epsilon=None, decay=0.0)\n",
    "        elif indiv['optimizer'] == 'adagrad':\n",
    "            opt = tf.keras.optimizers.Adagrad(lr=indiv['learning_rate'], epsilon=None, decay=0.0)\n",
    "        elif indiv['optimizer'] == 'adadelta':\n",
    "            opt = tf.keras.optimizers.Adadelta(lr=indiv['learning_rate'], rho=0.95, epsilon=None, decay=0.0)\n",
    "        elif indiv['optimizer'] == 'adam':\n",
    "            opt = tf.keras.optimizers.Adam(lr=indiv['learning_rate'], beta_1=0.9, beta_2=0.999, epsilon=None,\n",
    "                                  decay=0.0, amsgrad=False)\n",
    "        elif indiv['optimizer'] == 'adamax':\n",
    "            opt = tf.keras.optimizers.Adamax(lr=indiv['learning_rate'], beta_1=0.9, beta_2=0.999, epsilon=None,\n",
    "                                    decay=0.0)\n",
    "        elif indiv['optimizer'] == 'nadam':\n",
    "            opt = tf.keras.optimizers.Nadam(lr=indiv['learning_rate'], beta_1=0.9, beta_2=0.999, epsilon=None,\n",
    "                                   schedule_decay=0.004)\n",
    "\n",
    "        util = utility()\n",
    "        model.compile(optimizer=opt, loss='binary_crossentropy', metrics=[util.f1_m])\n",
    "\n",
    "        return model"
   ]
  },
  {
   "cell_type": "markdown",
   "metadata": {
    "colab_type": "text",
    "id": "Gal0h7YmYvNp"
   },
   "source": [
    "# Path"
   ]
  },
  {
   "cell_type": "code",
   "execution_count": 3,
   "metadata": {
    "colab": {
     "base_uri": "https://localhost:8080/",
     "height": 122
    },
    "colab_type": "code",
    "executionInfo": {
     "elapsed": 105470,
     "status": "ok",
     "timestamp": 1577438048198,
     "user": {
      "displayName": "Tirana Fatyanosa",
      "photoUrl": "",
      "userId": "06846734566535525129"
     },
     "user_tz": -540
    },
    "id": "_VjbiI2WX6UO",
    "outputId": "4ae3c3b2-f4d0-4cc7-d8f1-c7c318db6db2"
   },
   "outputs": [],
   "source": [
    "import os\n",
    "\n",
    "# path\n",
    "dataTraining = 'TrainingData.csv'\n",
    "dataTesting = 'TrialData.csv'\n",
    "testing_name = \"GridSearch\"\n",
    "root_path = '/lab/dbms/fatyanosa'\n",
    "datasetPath = root_path + '/Dataset/Suggestion Mining/'\n",
    "resultsPath = root_path + '/Server1/Suggestion Mining/Results/'\n",
    "archPath = root_path + '/Server1/Suggestion Mining/Architecture/'\n",
    "glovePath = [root_path + '/Glove/glove.6B.50d.txt',\n",
    "             root_path + '/Glove/glove.6B.100d.txt',\n",
    "             root_path + '/Glove/glove.6B.200d.txt',\n",
    "             root_path + '/Glove/glove.6B.300d.txt']"
   ]
  },
  {
   "cell_type": "markdown",
   "metadata": {
    "colab_type": "text",
    "id": "AMUrUZl-ZXh8"
   },
   "source": [
    "# Run"
   ]
  },
  {
   "cell_type": "code",
   "execution_count": 4,
   "metadata": {
    "colab": {
     "base_uri": "https://localhost:8080/",
     "height": 1000
    },
    "colab_type": "code",
    "executionInfo": {
     "elapsed": 698502,
     "status": "ok",
     "timestamp": 1577440557782,
     "user": {
      "displayName": "Tirana Fatyanosa",
      "photoUrl": "",
      "userId": "06846734566535525129"
     },
     "user_tz": -540
    },
    "id": "U8c9Yn-RXmdF",
    "outputId": "84cd235c-2a9a-482a-ca71-48c6fb60ce94"
   },
   "outputs": [
    {
     "name": "stdout",
     "output_type": "stream",
     "text": [
      "1\n",
      "52.833118200302124\n",
      "0.6977937403796819\n",
      "2\n",
      "75.43415307998657\n",
      "0.7231700605393506\n",
      "3\n",
      "44.261948585510254\n",
      "0.5328892589508742\n",
      "4\n"
     ]
    },
    {
     "name": "stderr",
     "output_type": "stream",
     "text": [
      "/lab/dbms/fatyanosa/.userprogram/anaconda3/envs/GA-CNN/lib/python3.7/site-packages/sklearn/metrics/_classification.py:1272: UndefinedMetricWarning: Precision is ill-defined and being set to 0.0 due to no predicted samples. Use `zero_division` parameter to control this behavior.\n",
      "  _warn_prf(average, modifier, msg_start, len(result))\n"
     ]
    },
    {
     "name": "stdout",
     "output_type": "stream",
     "text": [
      "41.5639750957489\n",
      "0.0\n",
      "5\n"
     ]
    },
    {
     "name": "stderr",
     "output_type": "stream",
     "text": [
      "/lab/dbms/fatyanosa/.userprogram/anaconda3/envs/GA-CNN/lib/python3.7/site-packages/sklearn/metrics/_classification.py:1272: UndefinedMetricWarning: Precision is ill-defined and being set to 0.0 due to no predicted samples. Use `zero_division` parameter to control this behavior.\n",
      "  _warn_prf(average, modifier, msg_start, len(result))\n"
     ]
    },
    {
     "name": "stdout",
     "output_type": "stream",
     "text": [
      "42.023144483566284\n",
      "0.0\n",
      "6\n",
      "62.24507665634155\n",
      "0.6666666666666666\n",
      "7\n",
      "77.0038070678711\n",
      "0.7086272381985892\n",
      "8\n",
      "56.732059717178345\n",
      "0.6586190246257846\n",
      "9\n",
      "102.35464000701904\n",
      "0.708128078817734\n",
      "10\n",
      "58.46266269683838\n",
      "0.6029593094944513\n",
      "11\n",
      "123.67281126976013\n",
      "0.43857868020304563\n",
      "12\n",
      "77.51750659942627\n",
      "0.4225865209471767\n",
      "13\n",
      "262.0832772254944\n",
      "0.5103969754253309\n",
      "14\n",
      "72.60826849937439\n",
      "0.6142365097588978\n",
      "15\n"
     ]
    },
    {
     "name": "stderr",
     "output_type": "stream",
     "text": [
      "/lab/dbms/fatyanosa/.userprogram/anaconda3/envs/GA-CNN/lib/python3.7/site-packages/sklearn/metrics/_classification.py:1272: UndefinedMetricWarning: Precision is ill-defined and being set to 0.0 due to no predicted samples. Use `zero_division` parameter to control this behavior.\n",
      "  _warn_prf(average, modifier, msg_start, len(result))\n"
     ]
    },
    {
     "name": "stdout",
     "output_type": "stream",
     "text": [
      "73.27192091941833\n",
      "0.0\n",
      "16\n"
     ]
    },
    {
     "name": "stderr",
     "output_type": "stream",
     "text": [
      "/lab/dbms/fatyanosa/.userprogram/anaconda3/envs/GA-CNN/lib/python3.7/site-packages/sklearn/metrics/_classification.py:1272: UndefinedMetricWarning: Precision is ill-defined and being set to 0.0 due to no predicted samples. Use `zero_division` parameter to control this behavior.\n",
      "  _warn_prf(average, modifier, msg_start, len(result))\n"
     ]
    },
    {
     "name": "stdout",
     "output_type": "stream",
     "text": [
      "37.66635799407959\n",
      "0.0\n",
      "17\n",
      "43.6560173034668\n",
      "0.7124620060790273\n",
      "18\n",
      "40.82452368736267\n",
      "0.6666666666666666\n",
      "19\n",
      "40.248984575271606\n",
      "0.6671480144404333\n",
      "20\n"
     ]
    },
    {
     "name": "stderr",
     "output_type": "stream",
     "text": [
      "/lab/dbms/fatyanosa/.userprogram/anaconda3/envs/GA-CNN/lib/python3.7/site-packages/sklearn/metrics/_classification.py:1272: UndefinedMetricWarning: Precision is ill-defined and being set to 0.0 due to no predicted samples. Use `zero_division` parameter to control this behavior.\n",
      "  _warn_prf(average, modifier, msg_start, len(result))\n"
     ]
    },
    {
     "name": "stdout",
     "output_type": "stream",
     "text": [
      "38.287511348724365\n",
      "0.0\n",
      "21\n",
      "51.522910594940186\n",
      "0.6666666666666666\n",
      "22\n",
      "59.792296409606934\n",
      "0.7083333333333333\n",
      "23\n",
      "50.236167907714844\n",
      "0.5621251071122536\n",
      "24\n"
     ]
    },
    {
     "name": "stderr",
     "output_type": "stream",
     "text": [
      "/lab/dbms/fatyanosa/.userprogram/anaconda3/envs/GA-CNN/lib/python3.7/site-packages/sklearn/metrics/_classification.py:1272: UndefinedMetricWarning: Precision is ill-defined and being set to 0.0 due to no predicted samples. Use `zero_division` parameter to control this behavior.\n",
      "  _warn_prf(average, modifier, msg_start, len(result))\n"
     ]
    },
    {
     "name": "stdout",
     "output_type": "stream",
     "text": [
      "47.78188395500183\n",
      "0.0\n",
      "25\n",
      "49.87285280227661\n",
      "0.6686390532544378\n",
      "26\n"
     ]
    },
    {
     "name": "stderr",
     "output_type": "stream",
     "text": [
      "/lab/dbms/fatyanosa/.userprogram/anaconda3/envs/GA-CNN/lib/python3.7/site-packages/sklearn/metrics/_classification.py:1272: UndefinedMetricWarning: Precision is ill-defined and being set to 0.0 due to no predicted samples. Use `zero_division` parameter to control this behavior.\n",
      "  _warn_prf(average, modifier, msg_start, len(result))\n"
     ]
    },
    {
     "name": "stdout",
     "output_type": "stream",
     "text": [
      "59.68406915664673\n",
      "0.0\n",
      "27\n"
     ]
    },
    {
     "name": "stderr",
     "output_type": "stream",
     "text": [
      "/lab/dbms/fatyanosa/.userprogram/anaconda3/envs/GA-CNN/lib/python3.7/site-packages/sklearn/metrics/_classification.py:1272: UndefinedMetricWarning: Precision is ill-defined and being set to 0.0 due to no predicted samples. Use `zero_division` parameter to control this behavior.\n",
      "  _warn_prf(average, modifier, msg_start, len(result))\n"
     ]
    },
    {
     "name": "stdout",
     "output_type": "stream",
     "text": [
      "59.600664138793945\n",
      "0.0\n",
      "28\n",
      "60.80707883834839\n",
      "0.6666666666666666\n",
      "29\n",
      "65.11035633087158\n",
      "0.6666666666666666\n",
      "30\n"
     ]
    },
    {
     "name": "stderr",
     "output_type": "stream",
     "text": [
      "/lab/dbms/fatyanosa/.userprogram/anaconda3/envs/GA-CNN/lib/python3.7/site-packages/sklearn/metrics/_classification.py:1272: UndefinedMetricWarning: Precision is ill-defined and being set to 0.0 due to no predicted samples. Use `zero_division` parameter to control this behavior.\n",
      "  _warn_prf(average, modifier, msg_start, len(result))\n"
     ]
    },
    {
     "name": "stdout",
     "output_type": "stream",
     "text": [
      "60.83348512649536\n",
      "0.0\n",
      "31\n"
     ]
    },
    {
     "name": "stderr",
     "output_type": "stream",
     "text": [
      "/lab/dbms/fatyanosa/.userprogram/anaconda3/envs/GA-CNN/lib/python3.7/site-packages/sklearn/metrics/_classification.py:1272: UndefinedMetricWarning: Precision is ill-defined and being set to 0.0 due to no predicted samples. Use `zero_division` parameter to control this behavior.\n",
      "  _warn_prf(average, modifier, msg_start, len(result))\n"
     ]
    },
    {
     "name": "stdout",
     "output_type": "stream",
     "text": [
      "32.89488482475281\n",
      "0.0\n",
      "32\n",
      "33.60287809371948\n",
      "0.5757961783439489\n",
      "33\n",
      "47.187952756881714\n",
      "0.6692861820563195\n",
      "34\n"
     ]
    },
    {
     "name": "stderr",
     "output_type": "stream",
     "text": [
      "/lab/dbms/fatyanosa/.userprogram/anaconda3/envs/GA-CNN/lib/python3.7/site-packages/sklearn/metrics/_classification.py:1272: UndefinedMetricWarning: Precision is ill-defined and being set to 0.0 due to no predicted samples. Use `zero_division` parameter to control this behavior.\n",
      "  _warn_prf(average, modifier, msg_start, len(result))\n"
     ]
    },
    {
     "name": "stdout",
     "output_type": "stream",
     "text": [
      "33.163835287094116\n",
      "0.0\n",
      "35\n",
      "60.26587176322937\n",
      "0.6697247706422018\n",
      "36\n",
      "74.8573169708252\n",
      "0.6717998075072183\n",
      "37\n",
      "47.97912287712097\n",
      "0.5937499999999999\n",
      "38\n",
      "46.95134425163269\n",
      "0.5224274406332454\n",
      "39\n",
      "48.092185974121094\n",
      "0.6254589963280294\n",
      "40\n",
      "52.456252336502075\n",
      "0.5004420866489832\n",
      "41\n",
      "65.41924691200256\n",
      "0.6666666666666666\n",
      "42\n",
      "98.16679167747498\n",
      "0.7001303780964798\n",
      "43\n",
      "92.3111617565155\n",
      "0.6744827586206897\n",
      "44\n",
      "60.18029522895813\n",
      "0.6115196078431373\n",
      "45\n",
      "84.80753636360168\n",
      "0.7103960396039604\n",
      "46\n",
      "41.603315114974976\n",
      "0.6669842782277275\n",
      "47\n",
      "47.23245692253113\n",
      "0.691771269177127\n",
      "48\n",
      "49.342692613601685\n",
      "0.6840579710144928\n",
      "49\n",
      "33.090837717056274\n",
      "0.6934353091140854\n",
      "50\n",
      "34.3525505065918\n",
      "0.6666666666666666\n",
      "51\n"
     ]
    },
    {
     "name": "stderr",
     "output_type": "stream",
     "text": [
      "/lab/dbms/fatyanosa/.userprogram/anaconda3/envs/GA-CNN/lib/python3.7/site-packages/sklearn/metrics/_classification.py:1272: UndefinedMetricWarning: Precision is ill-defined and being set to 0.0 due to no predicted samples. Use `zero_division` parameter to control this behavior.\n",
      "  _warn_prf(average, modifier, msg_start, len(result))\n"
     ]
    },
    {
     "name": "stdout",
     "output_type": "stream",
     "text": [
      "48.366477251052856\n",
      "0.0\n",
      "52\n",
      "47.166308879852295\n",
      "0.6947040498442367\n",
      "53\n",
      "55.621182441711426\n",
      "0.7107652399481191\n",
      "54\n",
      "59.62929368019104\n",
      "0.5897009966777408\n",
      "55\n"
     ]
    },
    {
     "name": "stderr",
     "output_type": "stream",
     "text": [
      "/lab/dbms/fatyanosa/.userprogram/anaconda3/envs/GA-CNN/lib/python3.7/site-packages/sklearn/metrics/_classification.py:1272: UndefinedMetricWarning: Precision is ill-defined and being set to 0.0 due to no predicted samples. Use `zero_division` parameter to control this behavior.\n",
      "  _warn_prf(average, modifier, msg_start, len(result))\n"
     ]
    },
    {
     "name": "stdout",
     "output_type": "stream",
     "text": [
      "49.879443883895874\n",
      "0.0\n",
      "56\n"
     ]
    },
    {
     "name": "stderr",
     "output_type": "stream",
     "text": [
      "/lab/dbms/fatyanosa/.userprogram/anaconda3/envs/GA-CNN/lib/python3.7/site-packages/sklearn/metrics/_classification.py:1272: UndefinedMetricWarning: Precision is ill-defined and being set to 0.0 due to no predicted samples. Use `zero_division` parameter to control this behavior.\n",
      "  _warn_prf(average, modifier, msg_start, len(result))\n"
     ]
    },
    {
     "name": "stdout",
     "output_type": "stream",
     "text": [
      "60.30528664588928\n",
      "0.0\n",
      "57\n"
     ]
    },
    {
     "name": "stderr",
     "output_type": "stream",
     "text": [
      "/lab/dbms/fatyanosa/.userprogram/anaconda3/envs/GA-CNN/lib/python3.7/site-packages/sklearn/metrics/_classification.py:1272: UndefinedMetricWarning: Precision is ill-defined and being set to 0.0 due to no predicted samples. Use `zero_division` parameter to control this behavior.\n",
      "  _warn_prf(average, modifier, msg_start, len(result))\n"
     ]
    },
    {
     "name": "stdout",
     "output_type": "stream",
     "text": [
      "60.52842164039612\n",
      "0.0\n",
      "58\n",
      "60.798675775527954\n",
      "0.6666666666666666\n",
      "59\n"
     ]
    },
    {
     "name": "stderr",
     "output_type": "stream",
     "text": [
      "/lab/dbms/fatyanosa/.userprogram/anaconda3/envs/GA-CNN/lib/python3.7/site-packages/sklearn/metrics/_classification.py:1272: UndefinedMetricWarning: Precision is ill-defined and being set to 0.0 due to no predicted samples. Use `zero_division` parameter to control this behavior.\n",
      "  _warn_prf(average, modifier, msg_start, len(result))\n"
     ]
    },
    {
     "name": "stdout",
     "output_type": "stream",
     "text": [
      "62.0998170375824\n",
      "0.0\n",
      "60\n"
     ]
    },
    {
     "name": "stderr",
     "output_type": "stream",
     "text": [
      "/lab/dbms/fatyanosa/.userprogram/anaconda3/envs/GA-CNN/lib/python3.7/site-packages/sklearn/metrics/_classification.py:1272: UndefinedMetricWarning: Precision is ill-defined and being set to 0.0 due to no predicted samples. Use `zero_division` parameter to control this behavior.\n",
      "  _warn_prf(average, modifier, msg_start, len(result))\n"
     ]
    },
    {
     "name": "stdout",
     "output_type": "stream",
     "text": [
      "62.5456964969635\n",
      "0.0\n",
      "61\n"
     ]
    },
    {
     "name": "stderr",
     "output_type": "stream",
     "text": [
      "/lab/dbms/fatyanosa/.userprogram/anaconda3/envs/GA-CNN/lib/python3.7/site-packages/sklearn/metrics/_classification.py:1272: UndefinedMetricWarning: Precision is ill-defined and being set to 0.0 due to no predicted samples. Use `zero_division` parameter to control this behavior.\n",
      "  _warn_prf(average, modifier, msg_start, len(result))\n"
     ]
    },
    {
     "name": "stdout",
     "output_type": "stream",
     "text": [
      "30.782294511795044\n",
      "0.0\n",
      "62\n",
      "43.107914686203\n",
      "0.17191283292978207\n",
      "63\n",
      "95.57770800590515\n",
      "0.6698224852071005\n",
      "64\n",
      "30.724098205566406\n",
      "0.6681246582832148\n",
      "65\n",
      "35.86099815368652\n",
      "0.5687331536388139\n",
      "66\n",
      "39.40986776351929\n",
      "0.6666666666666666\n",
      "67\n",
      "58.51634669303894\n",
      "0.5895039539899353\n",
      "68\n",
      "38.83873200416565\n",
      "0.6923879040667361\n",
      "69\n",
      "44.335209369659424\n",
      "0.6204854943753702\n",
      "70\n",
      "94.77233409881592\n",
      "0.6813186813186813\n",
      "71\n",
      "67.43395209312439\n",
      "0.6727622714148219\n",
      "72\n",
      "83.32843518257141\n",
      "0.6861313868613139\n",
      "73\n",
      "84.22839426994324\n",
      "0.5038297872340426\n",
      "74\n",
      "55.9727509021759\n",
      "0.48312883435582826\n",
      "75\n",
      "71.10065984725952\n",
      "0.6812627291242364\n",
      "76\n"
     ]
    },
    {
     "name": "stderr",
     "output_type": "stream",
     "text": [
      "/lab/dbms/fatyanosa/.userprogram/anaconda3/envs/GA-CNN/lib/python3.7/site-packages/sklearn/metrics/_classification.py:1272: UndefinedMetricWarning: Precision is ill-defined and being set to 0.0 due to no predicted samples. Use `zero_division` parameter to control this behavior.\n",
      "  _warn_prf(average, modifier, msg_start, len(result))\n"
     ]
    },
    {
     "name": "stdout",
     "output_type": "stream",
     "text": [
      "31.073410511016846\n",
      "0.0\n",
      "77\n",
      "33.926350593566895\n",
      "0.6930203829524398\n",
      "78\n",
      "78.19850158691406\n",
      "0.6058158319870759\n",
      "79\n",
      "41.75043058395386\n",
      "0.671919770773639\n",
      "80\n",
      "42.55535316467285\n",
      "0.6226415094339623\n",
      "81\n"
     ]
    },
    {
     "name": "stderr",
     "output_type": "stream",
     "text": [
      "/lab/dbms/fatyanosa/.userprogram/anaconda3/envs/GA-CNN/lib/python3.7/site-packages/sklearn/metrics/_classification.py:1272: UndefinedMetricWarning: Precision is ill-defined and being set to 0.0 due to no predicted samples. Use `zero_division` parameter to control this behavior.\n",
      "  _warn_prf(average, modifier, msg_start, len(result))\n"
     ]
    },
    {
     "name": "stdout",
     "output_type": "stream",
     "text": [
      "39.231006383895874\n",
      "0.0\n",
      "82\n"
     ]
    },
    {
     "name": "stderr",
     "output_type": "stream",
     "text": [
      "/lab/dbms/fatyanosa/.userprogram/anaconda3/envs/GA-CNN/lib/python3.7/site-packages/sklearn/metrics/_classification.py:1272: UndefinedMetricWarning: Precision is ill-defined and being set to 0.0 due to no predicted samples. Use `zero_division` parameter to control this behavior.\n",
      "  _warn_prf(average, modifier, msg_start, len(result))\n"
     ]
    },
    {
     "name": "stdout",
     "output_type": "stream",
     "text": [
      "41.23024320602417\n",
      "0.0\n",
      "83\n",
      "69.37571835517883\n",
      "0.6275115919629057\n",
      "84\n",
      "58.885581970214844\n",
      "0.5996732026143791\n",
      "85\n",
      "39.92607402801514\n",
      "0.6666666666666666\n",
      "86\n"
     ]
    },
    {
     "name": "stderr",
     "output_type": "stream",
     "text": [
      "/lab/dbms/fatyanosa/.userprogram/anaconda3/envs/GA-CNN/lib/python3.7/site-packages/sklearn/metrics/_classification.py:1272: UndefinedMetricWarning: Precision is ill-defined and being set to 0.0 due to no predicted samples. Use `zero_division` parameter to control this behavior.\n",
      "  _warn_prf(average, modifier, msg_start, len(result))\n"
     ]
    },
    {
     "name": "stdout",
     "output_type": "stream",
     "text": [
      "47.23783779144287\n",
      "0.0\n",
      "87\n",
      "108.18048644065857\n",
      "0.6057692307692307\n",
      "88\n",
      "105.67436242103577\n",
      "0.600326264274062\n",
      "89\n",
      "53.6905620098114\n",
      "0.7155025553662693\n",
      "90\n",
      "84.79593348503113\n",
      "0.6661710037174721\n",
      "91\n",
      "26.268636465072632\n",
      "0.6647591797806389\n",
      "92\n",
      "63.23537993431091\n",
      "0.41791044776119407\n",
      "93\n"
     ]
    },
    {
     "name": "stderr",
     "output_type": "stream",
     "text": [
      "/lab/dbms/fatyanosa/.userprogram/anaconda3/envs/GA-CNN/lib/python3.7/site-packages/sklearn/metrics/_classification.py:1272: UndefinedMetricWarning: Precision is ill-defined and being set to 0.0 due to no predicted samples. Use `zero_division` parameter to control this behavior.\n",
      "  _warn_prf(average, modifier, msg_start, len(result))\n"
     ]
    },
    {
     "name": "stdout",
     "output_type": "stream",
     "text": [
      "26.365543127059937\n",
      "0.0\n",
      "94\n",
      "46.270618200302124\n",
      "0.6142857142857142\n",
      "95\n",
      "51.6830518245697\n",
      "0.6296490309062336\n",
      "96\n",
      "111.06852054595947\n",
      "0.6650648726573762\n",
      "97\n"
     ]
    },
    {
     "name": "stderr",
     "output_type": "stream",
     "text": [
      "/lab/dbms/fatyanosa/.userprogram/anaconda3/envs/GA-CNN/lib/python3.7/site-packages/sklearn/metrics/_classification.py:1272: UndefinedMetricWarning: Precision is ill-defined and being set to 0.0 due to no predicted samples. Use `zero_division` parameter to control this behavior.\n",
      "  _warn_prf(average, modifier, msg_start, len(result))\n"
     ]
    },
    {
     "name": "stdout",
     "output_type": "stream",
     "text": [
      "33.55260229110718\n",
      "0.0\n",
      "98\n"
     ]
    },
    {
     "name": "stderr",
     "output_type": "stream",
     "text": [
      "/lab/dbms/fatyanosa/.userprogram/anaconda3/envs/GA-CNN/lib/python3.7/site-packages/sklearn/metrics/_classification.py:1272: UndefinedMetricWarning: Precision is ill-defined and being set to 0.0 due to no predicted samples. Use `zero_division` parameter to control this behavior.\n",
      "  _warn_prf(average, modifier, msg_start, len(result))\n"
     ]
    },
    {
     "name": "stdout",
     "output_type": "stream",
     "text": [
      "31.63712167739868\n",
      "0.0\n",
      "99\n",
      "61.20426607131958\n",
      "0.6595289079229122\n",
      "100\n",
      "32.54830718040466\n",
      "0.6623826000988631\n",
      "101\n",
      "47.915473222732544\n",
      "0.6647591797806389\n",
      "102\n"
     ]
    },
    {
     "name": "stderr",
     "output_type": "stream",
     "text": [
      "/lab/dbms/fatyanosa/.userprogram/anaconda3/envs/GA-CNN/lib/python3.7/site-packages/sklearn/metrics/_classification.py:1272: UndefinedMetricWarning: Precision is ill-defined and being set to 0.0 due to no predicted samples. Use `zero_division` parameter to control this behavior.\n",
      "  _warn_prf(average, modifier, msg_start, len(result))\n"
     ]
    },
    {
     "name": "stdout",
     "output_type": "stream",
     "text": [
      "35.26623010635376\n",
      "0.0\n",
      "103\n",
      "47.121684551239014\n",
      "0.6701821668264623\n",
      "104\n"
     ]
    },
    {
     "name": "stderr",
     "output_type": "stream",
     "text": [
      "/lab/dbms/fatyanosa/.userprogram/anaconda3/envs/GA-CNN/lib/python3.7/site-packages/sklearn/metrics/_classification.py:1272: UndefinedMetricWarning: Precision is ill-defined and being set to 0.0 due to no predicted samples. Use `zero_division` parameter to control this behavior.\n",
      "  _warn_prf(average, modifier, msg_start, len(result))\n"
     ]
    },
    {
     "name": "stdout",
     "output_type": "stream",
     "text": [
      "35.94209885597229\n",
      "0.0\n",
      "105\n"
     ]
    },
    {
     "name": "stderr",
     "output_type": "stream",
     "text": [
      "/lab/dbms/fatyanosa/.userprogram/anaconda3/envs/GA-CNN/lib/python3.7/site-packages/sklearn/metrics/_classification.py:1272: UndefinedMetricWarning: Precision is ill-defined and being set to 0.0 due to no predicted samples. Use `zero_division` parameter to control this behavior.\n",
      "  _warn_prf(average, modifier, msg_start, len(result))\n"
     ]
    },
    {
     "name": "stdout",
     "output_type": "stream",
     "text": [
      "38.433218002319336\n",
      "0.0\n",
      "106\n",
      "26.723706483840942\n",
      "0.6666666666666666\n",
      "107\n",
      "28.764425039291382\n",
      "0.6314119513484928\n",
      "108\n"
     ]
    },
    {
     "name": "stderr",
     "output_type": "stream",
     "text": [
      "/lab/dbms/fatyanosa/.userprogram/anaconda3/envs/GA-CNN/lib/python3.7/site-packages/sklearn/metrics/_classification.py:1272: UndefinedMetricWarning: Precision is ill-defined and being set to 0.0 due to no predicted samples. Use `zero_division` parameter to control this behavior.\n",
      "  _warn_prf(average, modifier, msg_start, len(result))\n"
     ]
    },
    {
     "name": "stdout",
     "output_type": "stream",
     "text": [
      "26.182815313339233\n",
      "0.0\n",
      "109\n",
      "28.713135242462158\n",
      "0.6291643910431458\n",
      "110\n"
     ]
    },
    {
     "name": "stderr",
     "output_type": "stream",
     "text": [
      "/lab/dbms/fatyanosa/.userprogram/anaconda3/envs/GA-CNN/lib/python3.7/site-packages/sklearn/metrics/_classification.py:1272: UndefinedMetricWarning: Precision is ill-defined and being set to 0.0 due to no predicted samples. Use `zero_division` parameter to control this behavior.\n",
      "  _warn_prf(average, modifier, msg_start, len(result))\n"
     ]
    },
    {
     "name": "stdout",
     "output_type": "stream",
     "text": [
      "27.11570906639099\n",
      "0.0\n",
      "111\n",
      "53.179203271865845\n",
      "0.6660314435445449\n",
      "112\n",
      "39.51584601402283\n",
      "0.6619333697433097\n",
      "113\n",
      "31.679551124572754\n",
      "0.6501347708894878\n",
      "114\n",
      "42.03890895843506\n",
      "0.661764705882353\n",
      "115\n"
     ]
    },
    {
     "name": "stderr",
     "output_type": "stream",
     "text": [
      "/lab/dbms/fatyanosa/.userprogram/anaconda3/envs/GA-CNN/lib/python3.7/site-packages/sklearn/metrics/_classification.py:1272: UndefinedMetricWarning: Precision is ill-defined and being set to 0.0 due to no predicted samples. Use `zero_division` parameter to control this behavior.\n",
      "  _warn_prf(average, modifier, msg_start, len(result))\n"
     ]
    },
    {
     "name": "stdout",
     "output_type": "stream",
     "text": [
      "35.0716438293457\n",
      "0.0\n",
      "116\n",
      "35.62360858917236\n",
      "0.005698005698005697\n",
      "117\n",
      "41.555166482925415\n",
      "0.665350444225074\n",
      "118\n"
     ]
    },
    {
     "name": "stderr",
     "output_type": "stream",
     "text": [
      "/lab/dbms/fatyanosa/.userprogram/anaconda3/envs/GA-CNN/lib/python3.7/site-packages/sklearn/metrics/_classification.py:1272: UndefinedMetricWarning: Precision is ill-defined and being set to 0.0 due to no predicted samples. Use `zero_division` parameter to control this behavior.\n",
      "  _warn_prf(average, modifier, msg_start, len(result))\n"
     ]
    },
    {
     "name": "stdout",
     "output_type": "stream",
     "text": [
      "35.38088798522949\n",
      "0.0\n",
      "119\n"
     ]
    },
    {
     "name": "stderr",
     "output_type": "stream",
     "text": [
      "/lab/dbms/fatyanosa/.userprogram/anaconda3/envs/GA-CNN/lib/python3.7/site-packages/sklearn/metrics/_classification.py:1272: UndefinedMetricWarning: Precision is ill-defined and being set to 0.0 due to no predicted samples. Use `zero_division` parameter to control this behavior.\n",
      "  _warn_prf(average, modifier, msg_start, len(result))\n"
     ]
    },
    {
     "name": "stdout",
     "output_type": "stream",
     "text": [
      "35.43228316307068\n",
      "0.0\n",
      "120\n"
     ]
    },
    {
     "name": "stderr",
     "output_type": "stream",
     "text": [
      "/lab/dbms/fatyanosa/.userprogram/anaconda3/envs/GA-CNN/lib/python3.7/site-packages/sklearn/metrics/_classification.py:1272: UndefinedMetricWarning: Precision is ill-defined and being set to 0.0 due to no predicted samples. Use `zero_division` parameter to control this behavior.\n",
      "  _warn_prf(average, modifier, msg_start, len(result))\n"
     ]
    },
    {
     "name": "stdout",
     "output_type": "stream",
     "text": [
      "36.408045291900635\n",
      "0.0\n",
      "121\n"
     ]
    },
    {
     "name": "stderr",
     "output_type": "stream",
     "text": [
      "/lab/dbms/fatyanosa/.userprogram/anaconda3/envs/GA-CNN/lib/python3.7/site-packages/sklearn/metrics/_classification.py:1272: UndefinedMetricWarning: Precision is ill-defined and being set to 0.0 due to no predicted samples. Use `zero_division` parameter to control this behavior.\n",
      "  _warn_prf(average, modifier, msg_start, len(result))\n"
     ]
    },
    {
     "name": "stdout",
     "output_type": "stream",
     "text": [
      "29.63884711265564\n",
      "0.0\n",
      "122\n"
     ]
    },
    {
     "name": "stderr",
     "output_type": "stream",
     "text": [
      "/lab/dbms/fatyanosa/.userprogram/anaconda3/envs/GA-CNN/lib/python3.7/site-packages/sklearn/metrics/_classification.py:1272: UndefinedMetricWarning: Precision is ill-defined and being set to 0.0 due to no predicted samples. Use `zero_division` parameter to control this behavior.\n",
      "  _warn_prf(average, modifier, msg_start, len(result))\n"
     ]
    },
    {
     "name": "stdout",
     "output_type": "stream",
     "text": [
      "30.251609802246094\n",
      "0.0\n",
      "123\n",
      "30.113818883895874\n",
      "0.6633466135458167\n",
      "124\n"
     ]
    },
    {
     "name": "stderr",
     "output_type": "stream",
     "text": [
      "/lab/dbms/fatyanosa/.userprogram/anaconda3/envs/GA-CNN/lib/python3.7/site-packages/sklearn/metrics/_classification.py:1272: UndefinedMetricWarning: Precision is ill-defined and being set to 0.0 due to no predicted samples. Use `zero_division` parameter to control this behavior.\n",
      "  _warn_prf(average, modifier, msg_start, len(result))\n"
     ]
    },
    {
     "name": "stdout",
     "output_type": "stream",
     "text": [
      "33.256030321121216\n",
      "0.0\n",
      "125\n",
      "57.82289361953735\n",
      "0.6238660153524075\n",
      "126\n"
     ]
    },
    {
     "name": "stderr",
     "output_type": "stream",
     "text": [
      "/lab/dbms/fatyanosa/.userprogram/anaconda3/envs/GA-CNN/lib/python3.7/site-packages/sklearn/metrics/_classification.py:1272: UndefinedMetricWarning: Precision is ill-defined and being set to 0.0 due to no predicted samples. Use `zero_division` parameter to control this behavior.\n",
      "  _warn_prf(average, modifier, msg_start, len(result))\n"
     ]
    },
    {
     "name": "stdout",
     "output_type": "stream",
     "text": [
      "42.902217864990234\n",
      "0.0\n",
      "127\n",
      "42.64007592201233\n",
      "0.6628297362110311\n",
      "128\n"
     ]
    },
    {
     "name": "stderr",
     "output_type": "stream",
     "text": [
      "/lab/dbms/fatyanosa/.userprogram/anaconda3/envs/GA-CNN/lib/python3.7/site-packages/sklearn/metrics/_classification.py:1272: UndefinedMetricWarning: Precision is ill-defined and being set to 0.0 due to no predicted samples. Use `zero_division` parameter to control this behavior.\n",
      "  _warn_prf(average, modifier, msg_start, len(result))\n"
     ]
    },
    {
     "name": "stdout",
     "output_type": "stream",
     "text": [
      "42.97041463851929\n",
      "0.0\n",
      "129\n"
     ]
    },
    {
     "name": "stderr",
     "output_type": "stream",
     "text": [
      "/lab/dbms/fatyanosa/.userprogram/anaconda3/envs/GA-CNN/lib/python3.7/site-packages/sklearn/metrics/_classification.py:1272: UndefinedMetricWarning: Precision is ill-defined and being set to 0.0 due to no predicted samples. Use `zero_division` parameter to control this behavior.\n",
      "  _warn_prf(average, modifier, msg_start, len(result))\n"
     ]
    },
    {
     "name": "stdout",
     "output_type": "stream",
     "text": [
      "42.730589151382446\n",
      "0.0\n",
      "130\n",
      "73.84792351722717\n",
      "0.6745984533016063\n",
      "131\n",
      "55.28440713882446\n",
      "0.6666666666666666\n",
      "132\n",
      "54.769651651382446\n",
      "0.49085365853658536\n",
      "133\n",
      "55.882670402526855\n",
      "0.6666666666666667\n",
      "134\n",
      "63.088356494903564\n",
      "0.6810154525386314\n",
      "135\n",
      "308.60766434669495\n",
      "0.6592592592592592\n",
      "136\n"
     ]
    },
    {
     "name": "stderr",
     "output_type": "stream",
     "text": [
      "/lab/dbms/fatyanosa/.userprogram/anaconda3/envs/GA-CNN/lib/python3.7/site-packages/sklearn/metrics/_classification.py:1272: UndefinedMetricWarning: Precision is ill-defined and being set to 0.0 due to no predicted samples. Use `zero_division` parameter to control this behavior.\n",
      "  _warn_prf(average, modifier, msg_start, len(result))\n"
     ]
    },
    {
     "name": "stdout",
     "output_type": "stream",
     "text": [
      "30.302605628967285\n",
      "0.0\n",
      "137\n"
     ]
    },
    {
     "name": "stderr",
     "output_type": "stream",
     "text": [
      "/lab/dbms/fatyanosa/.userprogram/anaconda3/envs/GA-CNN/lib/python3.7/site-packages/sklearn/metrics/_classification.py:1272: UndefinedMetricWarning: Precision is ill-defined and being set to 0.0 due to no predicted samples. Use `zero_division` parameter to control this behavior.\n",
      "  _warn_prf(average, modifier, msg_start, len(result))\n"
     ]
    },
    {
     "name": "stdout",
     "output_type": "stream",
     "text": [
      "30.70536994934082\n",
      "0.0\n",
      "138\n",
      "40.14637899398804\n",
      "0.7058823529411766\n",
      "139\n",
      "46.0138475894928\n",
      "0.7068223724646588\n",
      "140\n",
      "31.22356939315796\n",
      "0.6634844868735084\n",
      "141\n",
      "98.10609769821167\n",
      "0.6823781467595073\n",
      "142\n"
     ]
    },
    {
     "name": "stderr",
     "output_type": "stream",
     "text": [
      "/lab/dbms/fatyanosa/.userprogram/anaconda3/envs/GA-CNN/lib/python3.7/site-packages/sklearn/metrics/_classification.py:1272: UndefinedMetricWarning: Precision is ill-defined and being set to 0.0 due to no predicted samples. Use `zero_division` parameter to control this behavior.\n",
      "  _warn_prf(average, modifier, msg_start, len(result))\n"
     ]
    },
    {
     "name": "stdout",
     "output_type": "stream",
     "text": [
      "43.197351694107056\n",
      "0.0\n",
      "143\n",
      "108.75128483772278\n",
      "0.673277661795407\n",
      "144\n"
     ]
    },
    {
     "name": "stderr",
     "output_type": "stream",
     "text": [
      "/lab/dbms/fatyanosa/.userprogram/anaconda3/envs/GA-CNN/lib/python3.7/site-packages/sklearn/metrics/_classification.py:1272: UndefinedMetricWarning: Precision is ill-defined and being set to 0.0 due to no predicted samples. Use `zero_division` parameter to control this behavior.\n",
      "  _warn_prf(average, modifier, msg_start, len(result))\n"
     ]
    },
    {
     "name": "stdout",
     "output_type": "stream",
     "text": [
      "47.00625801086426\n",
      "0.0\n",
      "145\n"
     ]
    },
    {
     "name": "stderr",
     "output_type": "stream",
     "text": [
      "/lab/dbms/fatyanosa/.userprogram/anaconda3/envs/GA-CNN/lib/python3.7/site-packages/sklearn/metrics/_classification.py:1272: UndefinedMetricWarning: Precision is ill-defined and being set to 0.0 due to no predicted samples. Use `zero_division` parameter to control this behavior.\n",
      "  _warn_prf(average, modifier, msg_start, len(result))\n"
     ]
    },
    {
     "name": "stdout",
     "output_type": "stream",
     "text": [
      "44.0364887714386\n",
      "0.0\n",
      "146\n"
     ]
    },
    {
     "name": "stderr",
     "output_type": "stream",
     "text": [
      "/lab/dbms/fatyanosa/.userprogram/anaconda3/envs/GA-CNN/lib/python3.7/site-packages/sklearn/metrics/_classification.py:1272: UndefinedMetricWarning: Precision is ill-defined and being set to 0.0 due to no predicted samples. Use `zero_division` parameter to control this behavior.\n",
      "  _warn_prf(average, modifier, msg_start, len(result))\n"
     ]
    },
    {
     "name": "stdout",
     "output_type": "stream",
     "text": [
      "54.950167417526245\n",
      "0.0\n",
      "147\n"
     ]
    },
    {
     "name": "stderr",
     "output_type": "stream",
     "text": [
      "/lab/dbms/fatyanosa/.userprogram/anaconda3/envs/GA-CNN/lib/python3.7/site-packages/sklearn/metrics/_classification.py:1272: UndefinedMetricWarning: Precision is ill-defined and being set to 0.0 due to no predicted samples. Use `zero_division` parameter to control this behavior.\n",
      "  _warn_prf(average, modifier, msg_start, len(result))\n"
     ]
    },
    {
     "name": "stdout",
     "output_type": "stream",
     "text": [
      "55.35704016685486\n",
      "0.0\n",
      "148\n",
      "83.9883668422699\n",
      "0.689041095890411\n",
      "149\n",
      "93.80220556259155\n",
      "0.6666666666666666\n",
      "150\n"
     ]
    },
    {
     "name": "stderr",
     "output_type": "stream",
     "text": [
      "/lab/dbms/fatyanosa/.userprogram/anaconda3/envs/GA-CNN/lib/python3.7/site-packages/sklearn/metrics/_classification.py:1272: UndefinedMetricWarning: Precision is ill-defined and being set to 0.0 due to no predicted samples. Use `zero_division` parameter to control this behavior.\n",
      "  _warn_prf(average, modifier, msg_start, len(result))\n"
     ]
    },
    {
     "name": "stdout",
     "output_type": "stream",
     "text": [
      "56.82602882385254\n",
      "0.0\n",
      "151\n"
     ]
    },
    {
     "name": "stderr",
     "output_type": "stream",
     "text": [
      "/lab/dbms/fatyanosa/.userprogram/anaconda3/envs/GA-CNN/lib/python3.7/site-packages/sklearn/metrics/_classification.py:1272: UndefinedMetricWarning: Precision is ill-defined and being set to 0.0 due to no predicted samples. Use `zero_division` parameter to control this behavior.\n",
      "  _warn_prf(average, modifier, msg_start, len(result))\n"
     ]
    },
    {
     "name": "stdout",
     "output_type": "stream",
     "text": [
      "20.023284912109375\n",
      "0.0\n",
      "152\n",
      "22.514158487319946\n",
      "0.6737349397590361\n",
      "153\n",
      "105.56773281097412\n",
      "0.5315068493150684\n",
      "154\n",
      "21.07809853553772\n",
      "0.4779982743744608\n",
      "155\n",
      "48.608107566833496\n",
      "0.6550802139037433\n",
      "156\n",
      "30.441727876663208\n",
      "0.667964946445959\n",
      "157\n"
     ]
    },
    {
     "name": "stderr",
     "output_type": "stream",
     "text": [
      "/lab/dbms/fatyanosa/.userprogram/anaconda3/envs/GA-CNN/lib/python3.7/site-packages/sklearn/metrics/_classification.py:1272: UndefinedMetricWarning: Precision is ill-defined and being set to 0.0 due to no predicted samples. Use `zero_division` parameter to control this behavior.\n",
      "  _warn_prf(average, modifier, msg_start, len(result))\n"
     ]
    },
    {
     "name": "stdout",
     "output_type": "stream",
     "text": [
      "28.020199060440063\n",
      "0.0\n",
      "158\n",
      "27.9856014251709\n",
      "0.6495726495726495\n",
      "159\n",
      "50.13385319709778\n",
      "0.67125\n",
      "160\n",
      "49.65048789978027\n",
      "0.6914498141263941\n",
      "161\n",
      "82.37981081008911\n",
      "0.7096092925026399\n",
      "162\n",
      "39.53442192077637\n",
      "0.6779825412221143\n",
      "163\n",
      "39.40324306488037\n",
      "0.6793557833089312\n",
      "164\n",
      "39.45710062980652\n",
      "0.6827268067657611\n",
      "165\n",
      "40.06060242652893\n",
      "0.47713004484304933\n",
      "166\n",
      "19.66334557533264\n",
      "0.6666666666666666\n",
      "167\n"
     ]
    },
    {
     "name": "stderr",
     "output_type": "stream",
     "text": [
      "/lab/dbms/fatyanosa/.userprogram/anaconda3/envs/GA-CNN/lib/python3.7/site-packages/sklearn/metrics/_classification.py:1272: UndefinedMetricWarning: Precision is ill-defined and being set to 0.0 due to no predicted samples. Use `zero_division` parameter to control this behavior.\n",
      "  _warn_prf(average, modifier, msg_start, len(result))\n"
     ]
    },
    {
     "name": "stdout",
     "output_type": "stream",
     "text": [
      "23.467486143112183\n",
      "0.0\n",
      "168\n",
      "19.74980092048645\n",
      "0.6591957811470007\n",
      "169\n",
      "27.36115336418152\n",
      "0.6266986410871302\n",
      "170\n",
      "19.853182792663574\n",
      "0.593423019431988\n",
      "171\n"
     ]
    },
    {
     "name": "stderr",
     "output_type": "stream",
     "text": [
      "/lab/dbms/fatyanosa/.userprogram/anaconda3/envs/GA-CNN/lib/python3.7/site-packages/sklearn/metrics/_classification.py:1272: UndefinedMetricWarning: Precision is ill-defined and being set to 0.0 due to no predicted samples. Use `zero_division` parameter to control this behavior.\n",
      "  _warn_prf(average, modifier, msg_start, len(result))\n"
     ]
    },
    {
     "name": "stdout",
     "output_type": "stream",
     "text": [
      "27.935375690460205\n",
      "0.0\n",
      "172\n",
      "37.144359827041626\n",
      "0.5227906976744185\n",
      "173\n",
      "32.326425552368164\n",
      "0.6593245227606461\n",
      "174\n",
      "27.954610109329224\n",
      "0.7074235807860262\n",
      "175\n"
     ]
    },
    {
     "name": "stderr",
     "output_type": "stream",
     "text": [
      "/lab/dbms/fatyanosa/.userprogram/anaconda3/envs/GA-CNN/lib/python3.7/site-packages/sklearn/metrics/_classification.py:1272: UndefinedMetricWarning: Precision is ill-defined and being set to 0.0 due to no predicted samples. Use `zero_division` parameter to control this behavior.\n",
      "  _warn_prf(average, modifier, msg_start, len(result))\n"
     ]
    },
    {
     "name": "stdout",
     "output_type": "stream",
     "text": [
      "28.331042528152466\n",
      "0.0\n",
      "176\n"
     ]
    },
    {
     "name": "stderr",
     "output_type": "stream",
     "text": [
      "/lab/dbms/fatyanosa/.userprogram/anaconda3/envs/GA-CNN/lib/python3.7/site-packages/sklearn/metrics/_classification.py:1272: UndefinedMetricWarning: Precision is ill-defined and being set to 0.0 due to no predicted samples. Use `zero_division` parameter to control this behavior.\n",
      "  _warn_prf(average, modifier, msg_start, len(result))\n"
     ]
    },
    {
     "name": "stdout",
     "output_type": "stream",
     "text": [
      "36.53504800796509\n",
      "0.0\n",
      "177\n"
     ]
    },
    {
     "name": "stderr",
     "output_type": "stream",
     "text": [
      "/lab/dbms/fatyanosa/.userprogram/anaconda3/envs/GA-CNN/lib/python3.7/site-packages/sklearn/metrics/_classification.py:1272: UndefinedMetricWarning: Precision is ill-defined and being set to 0.0 due to no predicted samples. Use `zero_division` parameter to control this behavior.\n",
      "  _warn_prf(average, modifier, msg_start, len(result))\n"
     ]
    },
    {
     "name": "stdout",
     "output_type": "stream",
     "text": [
      "36.471073389053345\n",
      "0.0\n",
      "178\n",
      "36.36733937263489\n",
      "0.707809939923539\n",
      "179\n",
      "36.30834889411926\n",
      "0.6666666666666666\n",
      "180\n"
     ]
    },
    {
     "name": "stderr",
     "output_type": "stream",
     "text": [
      "/lab/dbms/fatyanosa/.userprogram/anaconda3/envs/GA-CNN/lib/python3.7/site-packages/sklearn/metrics/_classification.py:1272: UndefinedMetricWarning: Precision is ill-defined and being set to 0.0 due to no predicted samples. Use `zero_division` parameter to control this behavior.\n",
      "  _warn_prf(average, modifier, msg_start, len(result))\n"
     ]
    },
    {
     "name": "stdout",
     "output_type": "stream",
     "text": [
      "41.76515007019043\n",
      "0.0\n",
      "181\n",
      "59.4089891910553\n",
      "0.40918580375782887\n",
      "182\n",
      "20.550600051879883\n",
      "0.6373873873873874\n",
      "183\n",
      "24.132525205612183\n",
      "0.3713420787083753\n",
      "184\n",
      "24.059618949890137\n",
      "0.6429980276134122\n",
      "185\n",
      "23.21234440803528\n",
      "0.6350210970464134\n",
      "186\n"
     ]
    },
    {
     "name": "stderr",
     "output_type": "stream",
     "text": [
      "/lab/dbms/fatyanosa/.userprogram/anaconda3/envs/GA-CNN/lib/python3.7/site-packages/sklearn/metrics/_classification.py:1272: UndefinedMetricWarning: Precision is ill-defined and being set to 0.0 due to no predicted samples. Use `zero_division` parameter to control this behavior.\n",
      "  _warn_prf(average, modifier, msg_start, len(result))\n"
     ]
    },
    {
     "name": "stdout",
     "output_type": "stream",
     "text": [
      "29.52826499938965\n",
      "0.0\n",
      "187\n",
      "29.408257484436035\n",
      "0.32179607109448083\n",
      "188\n",
      "53.39903712272644\n",
      "0.714694110920526\n",
      "189\n"
     ]
    },
    {
     "name": "stderr",
     "output_type": "stream",
     "text": [
      "/lab/dbms/fatyanosa/.userprogram/anaconda3/envs/GA-CNN/lib/python3.7/site-packages/sklearn/metrics/_classification.py:1272: UndefinedMetricWarning: Precision is ill-defined and being set to 0.0 due to no predicted samples. Use `zero_division` parameter to control this behavior.\n",
      "  _warn_prf(average, modifier, msg_start, len(result))\n"
     ]
    },
    {
     "name": "stdout",
     "output_type": "stream",
     "text": [
      "29.550477743148804\n",
      "0.0\n",
      "190\n",
      "50.359535217285156\n",
      "0.6703567035670356\n",
      "191\n"
     ]
    },
    {
     "name": "stderr",
     "output_type": "stream",
     "text": [
      "/lab/dbms/fatyanosa/.userprogram/anaconda3/envs/GA-CNN/lib/python3.7/site-packages/sklearn/metrics/_classification.py:1272: UndefinedMetricWarning: Precision is ill-defined and being set to 0.0 due to no predicted samples. Use `zero_division` parameter to control this behavior.\n",
      "  _warn_prf(average, modifier, msg_start, len(result))\n"
     ]
    },
    {
     "name": "stdout",
     "output_type": "stream",
     "text": [
      "42.75061082839966\n",
      "0.0\n",
      "192\n",
      "50.62829613685608\n",
      "0.7035118019573977\n",
      "193\n",
      "40.8990843296051\n",
      "0.6730861819932596\n",
      "194\n",
      "37.76207613945007\n",
      "0.6796326310102647\n",
      "195\n"
     ]
    },
    {
     "name": "stderr",
     "output_type": "stream",
     "text": [
      "/lab/dbms/fatyanosa/.userprogram/anaconda3/envs/GA-CNN/lib/python3.7/site-packages/sklearn/metrics/_classification.py:1272: UndefinedMetricWarning: Precision is ill-defined and being set to 0.0 due to no predicted samples. Use `zero_division` parameter to control this behavior.\n",
      "  _warn_prf(average, modifier, msg_start, len(result))\n"
     ]
    },
    {
     "name": "stdout",
     "output_type": "stream",
     "text": [
      "38.609230041503906\n",
      "0.0\n",
      "196\n"
     ]
    },
    {
     "name": "stderr",
     "output_type": "stream",
     "text": [
      "/lab/dbms/fatyanosa/.userprogram/anaconda3/envs/GA-CNN/lib/python3.7/site-packages/sklearn/metrics/_classification.py:1272: UndefinedMetricWarning: Precision is ill-defined and being set to 0.0 due to no predicted samples. Use `zero_division` parameter to control this behavior.\n",
      "  _warn_prf(average, modifier, msg_start, len(result))\n"
     ]
    },
    {
     "name": "stdout",
     "output_type": "stream",
     "text": [
      "20.886990547180176\n",
      "0.0\n",
      "197\n"
     ]
    },
    {
     "name": "stderr",
     "output_type": "stream",
     "text": [
      "/lab/dbms/fatyanosa/.userprogram/anaconda3/envs/GA-CNN/lib/python3.7/site-packages/sklearn/metrics/_classification.py:1272: UndefinedMetricWarning: Precision is ill-defined and being set to 0.0 due to no predicted samples. Use `zero_division` parameter to control this behavior.\n",
      "  _warn_prf(average, modifier, msg_start, len(result))\n"
     ]
    },
    {
     "name": "stdout",
     "output_type": "stream",
     "text": [
      "20.955201148986816\n",
      "0.0\n",
      "198\n",
      "22.20040249824524\n",
      "0.6806779661016948\n",
      "199\n",
      "25.58095622062683\n",
      "0.7014341590612776\n",
      "200\n"
     ]
    },
    {
     "name": "stderr",
     "output_type": "stream",
     "text": [
      "/lab/dbms/fatyanosa/.userprogram/anaconda3/envs/GA-CNN/lib/python3.7/site-packages/sklearn/metrics/_classification.py:1272: UndefinedMetricWarning: Precision is ill-defined and being set to 0.0 due to no predicted samples. Use `zero_division` parameter to control this behavior.\n",
      "  _warn_prf(average, modifier, msg_start, len(result))\n"
     ]
    },
    {
     "name": "stdout",
     "output_type": "stream",
     "text": [
      "21.172584533691406\n",
      "0.0\n",
      "201\n",
      "30.177401065826416\n",
      "0.6666666666666666\n",
      "202\n",
      "49.010350465774536\n",
      "0.5475152571926765\n",
      "203\n",
      "34.686487436294556\n",
      "0.7033898305084745\n",
      "204\n"
     ]
    },
    {
     "name": "stderr",
     "output_type": "stream",
     "text": [
      "/lab/dbms/fatyanosa/.userprogram/anaconda3/envs/GA-CNN/lib/python3.7/site-packages/sklearn/metrics/_classification.py:1272: UndefinedMetricWarning: Precision is ill-defined and being set to 0.0 due to no predicted samples. Use `zero_division` parameter to control this behavior.\n",
      "  _warn_prf(average, modifier, msg_start, len(result))\n"
     ]
    },
    {
     "name": "stdout",
     "output_type": "stream",
     "text": [
      "29.873732089996338\n",
      "0.0\n",
      "205\n"
     ]
    },
    {
     "name": "stderr",
     "output_type": "stream",
     "text": [
      "/lab/dbms/fatyanosa/.userprogram/anaconda3/envs/GA-CNN/lib/python3.7/site-packages/sklearn/metrics/_classification.py:1272: UndefinedMetricWarning: Precision is ill-defined and being set to 0.0 due to no predicted samples. Use `zero_division` parameter to control this behavior.\n",
      "  _warn_prf(average, modifier, msg_start, len(result))\n"
     ]
    },
    {
     "name": "stdout",
     "output_type": "stream",
     "text": [
      "30.692413330078125\n",
      "0.0\n",
      "206\n"
     ]
    },
    {
     "name": "stderr",
     "output_type": "stream",
     "text": [
      "/lab/dbms/fatyanosa/.userprogram/anaconda3/envs/GA-CNN/lib/python3.7/site-packages/sklearn/metrics/_classification.py:1272: UndefinedMetricWarning: Precision is ill-defined and being set to 0.0 due to no predicted samples. Use `zero_division` parameter to control this behavior.\n",
      "  _warn_prf(average, modifier, msg_start, len(result))\n"
     ]
    },
    {
     "name": "stdout",
     "output_type": "stream",
     "text": [
      "37.506996870040894\n",
      "0.0\n",
      "207\n"
     ]
    },
    {
     "name": "stderr",
     "output_type": "stream",
     "text": [
      "/lab/dbms/fatyanosa/.userprogram/anaconda3/envs/GA-CNN/lib/python3.7/site-packages/sklearn/metrics/_classification.py:1272: UndefinedMetricWarning: Precision is ill-defined and being set to 0.0 due to no predicted samples. Use `zero_division` parameter to control this behavior.\n",
      "  _warn_prf(average, modifier, msg_start, len(result))\n"
     ]
    },
    {
     "name": "stdout",
     "output_type": "stream",
     "text": [
      "37.8582866191864\n",
      "0.0\n",
      "208\n"
     ]
    },
    {
     "name": "stderr",
     "output_type": "stream",
     "text": [
      "/lab/dbms/fatyanosa/.userprogram/anaconda3/envs/GA-CNN/lib/python3.7/site-packages/sklearn/metrics/_classification.py:1272: UndefinedMetricWarning: Precision is ill-defined and being set to 0.0 due to no predicted samples. Use `zero_division` parameter to control this behavior.\n",
      "  _warn_prf(average, modifier, msg_start, len(result))\n"
     ]
    },
    {
     "name": "stdout",
     "output_type": "stream",
     "text": [
      "37.84652638435364\n",
      "0.0\n",
      "209\n",
      "37.773202896118164\n",
      "0.6666666666666666\n",
      "210\n",
      "54.65654492378235\n",
      "0.6776034236804566\n",
      "211\n"
     ]
    },
    {
     "name": "stderr",
     "output_type": "stream",
     "text": [
      "/lab/dbms/fatyanosa/.userprogram/anaconda3/envs/GA-CNN/lib/python3.7/site-packages/sklearn/metrics/_classification.py:1272: UndefinedMetricWarning: Precision is ill-defined and being set to 0.0 due to no predicted samples. Use `zero_division` parameter to control this behavior.\n",
      "  _warn_prf(average, modifier, msg_start, len(result))\n"
     ]
    },
    {
     "name": "stdout",
     "output_type": "stream",
     "text": [
      "18.095706939697266\n",
      "0.0\n",
      "212\n",
      "21.129287481307983\n",
      "0.6264399341744378\n",
      "213\n",
      "69.36221718788147\n",
      "0.6754098360655738\n",
      "214\n",
      "17.817293643951416\n",
      "0.6666666666666666\n",
      "215\n",
      "23.309723138809204\n",
      "0.42204995693367786\n",
      "216\n",
      "44.91083359718323\n",
      "0.07848443843031123\n",
      "217\n",
      "25.110499382019043\n",
      "0.6757812499999999\n",
      "218\n",
      "42.3599579334259\n",
      "0.3522727272727273\n",
      "219\n",
      "25.71574306488037\n",
      "0.613947696139477\n",
      "220\n",
      "29.89292001724243\n",
      "0.5872235872235873\n",
      "221\n"
     ]
    },
    {
     "name": "stderr",
     "output_type": "stream",
     "text": [
      "/lab/dbms/fatyanosa/.userprogram/anaconda3/envs/GA-CNN/lib/python3.7/site-packages/sklearn/metrics/_classification.py:1272: UndefinedMetricWarning: Precision is ill-defined and being set to 0.0 due to no predicted samples. Use `zero_division` parameter to control this behavior.\n",
      "  _warn_prf(average, modifier, msg_start, len(result))\n"
     ]
    },
    {
     "name": "stdout",
     "output_type": "stream",
     "text": [
      "30.70334005355835\n",
      "0.0\n",
      "222\n",
      "30.741722583770752\n",
      "0.0\n",
      "223\n",
      "30.791606426239014\n",
      "0.6686596910812157\n",
      "224\n",
      "72.13222289085388\n",
      "0.6790582403965304\n",
      "225\n",
      "31.254781007766724\n",
      "0.0\n",
      "226\n",
      "18.379342555999756\n",
      "0.6666666666666666\n",
      "227\n",
      "21.379862546920776\n",
      "0.6726228462029356\n",
      "228\n",
      "33.43915247917175\n",
      "0.5827036104114189\n",
      "229\n"
     ]
    },
    {
     "name": "stderr",
     "output_type": "stream",
     "text": [
      "/lab/dbms/fatyanosa/.userprogram/anaconda3/envs/GA-CNN/lib/python3.7/site-packages/sklearn/metrics/_classification.py:1272: UndefinedMetricWarning: Precision is ill-defined and being set to 0.0 due to no predicted samples. Use `zero_division` parameter to control this behavior.\n",
      "  _warn_prf(average, modifier, msg_start, len(result))\n"
     ]
    },
    {
     "name": "stdout",
     "output_type": "stream",
     "text": [
      "18.256492376327515\n",
      "0.0\n",
      "230\n",
      "18.922472953796387\n",
      "0.6216696269982238\n",
      "231\n"
     ]
    },
    {
     "name": "stderr",
     "output_type": "stream",
     "text": [
      "/lab/dbms/fatyanosa/.userprogram/anaconda3/envs/GA-CNN/lib/python3.7/site-packages/sklearn/metrics/_classification.py:1272: UndefinedMetricWarning: Precision is ill-defined and being set to 0.0 due to no predicted samples. Use `zero_division` parameter to control this behavior.\n",
      "  _warn_prf(average, modifier, msg_start, len(result))\n"
     ]
    },
    {
     "name": "stdout",
     "output_type": "stream",
     "text": [
      "25.43310546875\n",
      "0.0\n",
      "232\n",
      "25.0779550075531\n",
      "0.0028409090909090906\n",
      "233\n",
      "25.07554531097412\n",
      "0.6666666666666666\n",
      "234\n",
      "25.021968603134155\n",
      "0.6666666666666666\n",
      "235\n",
      "75.39836978912354\n",
      "0.5573770491803279\n",
      "236\n",
      "30.764805555343628\n",
      "0.6879109762266059\n",
      "237\n",
      "67.23700141906738\n",
      "0.6118038237738985\n",
      "238\n",
      "30.658406972885132\n",
      "0.6615236258437801\n",
      "239\n"
     ]
    },
    {
     "name": "stderr",
     "output_type": "stream",
     "text": [
      "/lab/dbms/fatyanosa/.userprogram/anaconda3/envs/GA-CNN/lib/python3.7/site-packages/sklearn/metrics/_classification.py:1272: UndefinedMetricWarning: Precision is ill-defined and being set to 0.0 due to no predicted samples. Use `zero_division` parameter to control this behavior.\n",
      "  _warn_prf(average, modifier, msg_start, len(result))\n"
     ]
    },
    {
     "name": "stdout",
     "output_type": "stream",
     "text": [
      "31.196457624435425\n",
      "0.0\n",
      "240\n"
     ]
    },
    {
     "name": "stderr",
     "output_type": "stream",
     "text": [
      "/lab/dbms/fatyanosa/.userprogram/anaconda3/envs/GA-CNN/lib/python3.7/site-packages/sklearn/metrics/_classification.py:1272: UndefinedMetricWarning: Precision is ill-defined and being set to 0.0 due to no predicted samples. Use `zero_division` parameter to control this behavior.\n",
      "  _warn_prf(average, modifier, msg_start, len(result))\n"
     ]
    },
    {
     "name": "stdout",
     "output_type": "stream",
     "text": [
      "31.0309841632843\n",
      "0.0\n",
      "241\n"
     ]
    },
    {
     "name": "stderr",
     "output_type": "stream",
     "text": [
      "/lab/dbms/fatyanosa/.userprogram/anaconda3/envs/GA-CNN/lib/python3.7/site-packages/sklearn/metrics/_classification.py:1272: UndefinedMetricWarning: Precision is ill-defined and being set to 0.0 due to no predicted samples. Use `zero_division` parameter to control this behavior.\n",
      "  _warn_prf(average, modifier, msg_start, len(result))\n"
     ]
    },
    {
     "name": "stdout",
     "output_type": "stream",
     "text": [
      "16.041054725646973\n",
      "0.0\n",
      "242\n"
     ]
    },
    {
     "name": "stderr",
     "output_type": "stream",
     "text": [
      "/lab/dbms/fatyanosa/.userprogram/anaconda3/envs/GA-CNN/lib/python3.7/site-packages/sklearn/metrics/_classification.py:1272: UndefinedMetricWarning: Precision is ill-defined and being set to 0.0 due to no predicted samples. Use `zero_division` parameter to control this behavior.\n",
      "  _warn_prf(average, modifier, msg_start, len(result))\n"
     ]
    },
    {
     "name": "stdout",
     "output_type": "stream",
     "text": [
      "16.11922836303711\n",
      "0.0\n",
      "243\n"
     ]
    },
    {
     "name": "stderr",
     "output_type": "stream",
     "text": [
      "/lab/dbms/fatyanosa/.userprogram/anaconda3/envs/GA-CNN/lib/python3.7/site-packages/sklearn/metrics/_classification.py:1272: UndefinedMetricWarning: Precision is ill-defined and being set to 0.0 due to no predicted samples. Use `zero_division` parameter to control this behavior.\n",
      "  _warn_prf(average, modifier, msg_start, len(result))\n"
     ]
    },
    {
     "name": "stdout",
     "output_type": "stream",
     "text": [
      "16.137837171554565\n",
      "0.0\n",
      "244\n"
     ]
    },
    {
     "name": "stderr",
     "output_type": "stream",
     "text": [
      "/lab/dbms/fatyanosa/.userprogram/anaconda3/envs/GA-CNN/lib/python3.7/site-packages/sklearn/metrics/_classification.py:1272: UndefinedMetricWarning: Precision is ill-defined and being set to 0.0 due to no predicted samples. Use `zero_division` parameter to control this behavior.\n",
      "  _warn_prf(average, modifier, msg_start, len(result))\n"
     ]
    },
    {
     "name": "stdout",
     "output_type": "stream",
     "text": [
      "15.962796211242676\n",
      "0.0\n",
      "245\n"
     ]
    },
    {
     "name": "stderr",
     "output_type": "stream",
     "text": [
      "/lab/dbms/fatyanosa/.userprogram/anaconda3/envs/GA-CNN/lib/python3.7/site-packages/sklearn/metrics/_classification.py:1272: UndefinedMetricWarning: Precision is ill-defined and being set to 0.0 due to no predicted samples. Use `zero_division` parameter to control this behavior.\n",
      "  _warn_prf(average, modifier, msg_start, len(result))\n"
     ]
    },
    {
     "name": "stdout",
     "output_type": "stream",
     "text": [
      "16.5707848072052\n",
      "0.0\n",
      "246\n"
     ]
    },
    {
     "name": "stderr",
     "output_type": "stream",
     "text": [
      "/lab/dbms/fatyanosa/.userprogram/anaconda3/envs/GA-CNN/lib/python3.7/site-packages/sklearn/metrics/_classification.py:1272: UndefinedMetricWarning: Precision is ill-defined and being set to 0.0 due to no predicted samples. Use `zero_division` parameter to control this behavior.\n",
      "  _warn_prf(average, modifier, msg_start, len(result))\n"
     ]
    },
    {
     "name": "stdout",
     "output_type": "stream",
     "text": [
      "20.810044765472412\n",
      "0.0\n",
      "247\n",
      "21.081053733825684\n",
      "0.6689027311931002\n",
      "248\n",
      "20.895795583724976\n",
      "0.588801926550271\n",
      "249\n",
      "82.8569495677948\n",
      "0.5759416767922236\n",
      "250\n",
      "21.31101131439209\n",
      "0.011251758087201124\n",
      "251\n",
      "34.49557662010193\n",
      "0.6468812877263581\n",
      "252\n",
      "82.29084897041321\n",
      "0.6567015445939213\n",
      "253\n",
      "53.41827392578125\n",
      "0.6042927903137039\n",
      "254\n",
      "31.051329612731934\n",
      "0.4563253012048193\n",
      "255\n",
      "25.085150957107544\n",
      "0.01662049861495845\n",
      "256\n"
     ]
    },
    {
     "name": "stderr",
     "output_type": "stream",
     "text": [
      "/lab/dbms/fatyanosa/.userprogram/anaconda3/envs/GA-CNN/lib/python3.7/site-packages/sklearn/metrics/_classification.py:1272: UndefinedMetricWarning: Precision is ill-defined and being set to 0.0 due to no predicted samples. Use `zero_division` parameter to control this behavior.\n",
      "  _warn_prf(average, modifier, msg_start, len(result))\n"
     ]
    },
    {
     "name": "stdout",
     "output_type": "stream",
     "text": [
      "16.122494220733643\n",
      "0.0\n",
      "257\n"
     ]
    },
    {
     "name": "stderr",
     "output_type": "stream",
     "text": [
      "/lab/dbms/fatyanosa/.userprogram/anaconda3/envs/GA-CNN/lib/python3.7/site-packages/sklearn/metrics/_classification.py:1272: UndefinedMetricWarning: Precision is ill-defined and being set to 0.0 due to no predicted samples. Use `zero_division` parameter to control this behavior.\n",
      "  _warn_prf(average, modifier, msg_start, len(result))\n"
     ]
    },
    {
     "name": "stdout",
     "output_type": "stream",
     "text": [
      "16.16891837120056\n",
      "0.0\n",
      "258\n",
      "52.060778856277466\n",
      "0.5481239804241435\n",
      "259\n",
      "16.34922957420349\n",
      "0.6701923076923078\n",
      "260\n",
      "25.203561067581177\n",
      "0.6913086913086913\n",
      "261\n",
      "26.623782873153687\n",
      "0.6666666666666666\n",
      "262\n"
     ]
    },
    {
     "name": "stderr",
     "output_type": "stream",
     "text": [
      "/lab/dbms/fatyanosa/.userprogram/anaconda3/envs/GA-CNN/lib/python3.7/site-packages/sklearn/metrics/_classification.py:1272: UndefinedMetricWarning: Precision is ill-defined and being set to 0.0 due to no predicted samples. Use `zero_division` parameter to control this behavior.\n",
      "  _warn_prf(average, modifier, msg_start, len(result))\n"
     ]
    },
    {
     "name": "stdout",
     "output_type": "stream",
     "text": [
      "21.243557691574097\n",
      "0.0\n",
      "263\n",
      "30.084690809249878\n",
      "0.662109375\n",
      "264\n"
     ]
    },
    {
     "name": "stderr",
     "output_type": "stream",
     "text": [
      "/lab/dbms/fatyanosa/.userprogram/anaconda3/envs/GA-CNN/lib/python3.7/site-packages/sklearn/metrics/_classification.py:1272: UndefinedMetricWarning: Precision is ill-defined and being set to 0.0 due to no predicted samples. Use `zero_division` parameter to control this behavior.\n",
      "  _warn_prf(average, modifier, msg_start, len(result))\n"
     ]
    },
    {
     "name": "stdout",
     "output_type": "stream",
     "text": [
      "20.99323558807373\n",
      "0.0\n",
      "265\n"
     ]
    },
    {
     "name": "stderr",
     "output_type": "stream",
     "text": [
      "/lab/dbms/fatyanosa/.userprogram/anaconda3/envs/GA-CNN/lib/python3.7/site-packages/sklearn/metrics/_classification.py:1272: UndefinedMetricWarning: Precision is ill-defined and being set to 0.0 due to no predicted samples. Use `zero_division` parameter to control this behavior.\n",
      "  _warn_prf(average, modifier, msg_start, len(result))\n"
     ]
    },
    {
     "name": "stdout",
     "output_type": "stream",
     "text": [
      "21.39374041557312\n",
      "0.0\n",
      "266\n",
      "26.95012664794922\n",
      "0.6666666666666666\n",
      "267\n",
      "26.65098476409912\n",
      "0.6527942925089181\n",
      "268\n",
      "31.067719221115112\n",
      "0.6767567567567567\n",
      "269\n",
      "25.017037630081177\n",
      "0.6737349397590361\n",
      "270\n",
      "25.255051851272583\n",
      "0.6711798839458414\n",
      "271\n",
      "18.49041509628296\n",
      "0.6666666666666666\n",
      "272\n",
      "18.572601795196533\n",
      "0.6750849927149101\n",
      "273\n",
      "50.462252616882324\n",
      "0.6490514905149052\n",
      "274\n",
      "23.26808476448059\n",
      "0.3194888178913738\n",
      "275\n",
      "28.058515787124634\n",
      "0.6750849927149101\n",
      "276\n",
      "46.668684005737305\n",
      "0.6890672016048144\n",
      "277\n"
     ]
    },
    {
     "name": "stderr",
     "output_type": "stream",
     "text": [
      "/lab/dbms/fatyanosa/.userprogram/anaconda3/envs/GA-CNN/lib/python3.7/site-packages/sklearn/metrics/_classification.py:1272: UndefinedMetricWarning: Precision is ill-defined and being set to 0.0 due to no predicted samples. Use `zero_division` parameter to control this behavior.\n",
      "  _warn_prf(average, modifier, msg_start, len(result))\n"
     ]
    },
    {
     "name": "stdout",
     "output_type": "stream",
     "text": [
      "27.6208016872406\n",
      "0.0\n",
      "278\n",
      "27.783567667007446\n",
      "0.6692307692307692\n",
      "279\n",
      "49.94761419296265\n",
      "0.704656862745098\n",
      "280\n",
      "28.064148664474487\n",
      "0.5049088359046283\n",
      "281\n",
      "135.51314234733582\n",
      "0.48622047244094485\n",
      "282\n",
      "40.87961506843567\n",
      "0.407373271889401\n",
      "283\n",
      "61.59982752799988\n",
      "0.7148736037624925\n",
      "284\n",
      "40.55054998397827\n",
      "0.37661050545094155\n",
      "285\n",
      "35.4189977645874\n",
      "0.48801742919389973\n",
      "286\n",
      "25.83915114402771\n",
      "0.7199999999999999\n",
      "287\n",
      "28.809529066085815\n",
      "0.6537023186237847\n",
      "288\n",
      "19.249602556228638\n",
      "0.647319232661092\n",
      "289\n",
      "35.7953097820282\n",
      "0.6827956989247312\n",
      "290\n",
      "43.636486530303955\n",
      "0.679245283018868\n",
      "291\n"
     ]
    },
    {
     "name": "stderr",
     "output_type": "stream",
     "text": [
      "/lab/dbms/fatyanosa/.userprogram/anaconda3/envs/GA-CNN/lib/python3.7/site-packages/sklearn/metrics/_classification.py:1272: UndefinedMetricWarning: Precision is ill-defined and being set to 0.0 due to no predicted samples. Use `zero_division` parameter to control this behavior.\n",
      "  _warn_prf(average, modifier, msg_start, len(result))\n"
     ]
    },
    {
     "name": "stdout",
     "output_type": "stream",
     "text": [
      "27.558014392852783\n",
      "0.0\n",
      "292\n",
      "29.828847885131836\n",
      "0.67578125\n",
      "293\n"
     ]
    },
    {
     "name": "stderr",
     "output_type": "stream",
     "text": [
      "/lab/dbms/fatyanosa/.userprogram/anaconda3/envs/GA-CNN/lib/python3.7/site-packages/sklearn/metrics/_classification.py:1272: UndefinedMetricWarning: Precision is ill-defined and being set to 0.0 due to no predicted samples. Use `zero_division` parameter to control this behavior.\n",
      "  _warn_prf(average, modifier, msg_start, len(result))\n"
     ]
    },
    {
     "name": "stdout",
     "output_type": "stream",
     "text": [
      "27.850569009780884\n",
      "0.0\n",
      "294\n",
      "27.81554913520813\n",
      "0.6666666666666666\n",
      "295\n"
     ]
    },
    {
     "name": "stderr",
     "output_type": "stream",
     "text": [
      "/lab/dbms/fatyanosa/.userprogram/anaconda3/envs/GA-CNN/lib/python3.7/site-packages/sklearn/metrics/_classification.py:1272: UndefinedMetricWarning: Precision is ill-defined and being set to 0.0 due to no predicted samples. Use `zero_division` parameter to control this behavior.\n",
      "  _warn_prf(average, modifier, msg_start, len(result))\n"
     ]
    },
    {
     "name": "stdout",
     "output_type": "stream",
     "text": [
      "27.95166039466858\n",
      "0.0\n",
      "296\n"
     ]
    },
    {
     "name": "stderr",
     "output_type": "stream",
     "text": [
      "/lab/dbms/fatyanosa/.userprogram/anaconda3/envs/GA-CNN/lib/python3.7/site-packages/sklearn/metrics/_classification.py:1272: UndefinedMetricWarning: Precision is ill-defined and being set to 0.0 due to no predicted samples. Use `zero_division` parameter to control this behavior.\n",
      "  _warn_prf(average, modifier, msg_start, len(result))\n"
     ]
    },
    {
     "name": "stdout",
     "output_type": "stream",
     "text": [
      "42.98724126815796\n",
      "0.0\n",
      "297\n"
     ]
    },
    {
     "name": "stderr",
     "output_type": "stream",
     "text": [
      "/lab/dbms/fatyanosa/.userprogram/anaconda3/envs/GA-CNN/lib/python3.7/site-packages/sklearn/metrics/_classification.py:1272: UndefinedMetricWarning: Precision is ill-defined and being set to 0.0 due to no predicted samples. Use `zero_division` parameter to control this behavior.\n",
      "  _warn_prf(average, modifier, msg_start, len(result))\n"
     ]
    },
    {
     "name": "stdout",
     "output_type": "stream",
     "text": [
      "35.107686042785645\n",
      "0.0\n",
      "298\n"
     ]
    },
    {
     "name": "stderr",
     "output_type": "stream",
     "text": [
      "/lab/dbms/fatyanosa/.userprogram/anaconda3/envs/GA-CNN/lib/python3.7/site-packages/sklearn/metrics/_classification.py:1272: UndefinedMetricWarning: Precision is ill-defined and being set to 0.0 due to no predicted samples. Use `zero_division` parameter to control this behavior.\n",
      "  _warn_prf(average, modifier, msg_start, len(result))\n"
     ]
    },
    {
     "name": "stdout",
     "output_type": "stream",
     "text": [
      "35.12485194206238\n",
      "0.0\n",
      "299\n",
      "35.07931590080261\n",
      "0.6666666666666666\n",
      "300\n",
      "50.7011444568634\n",
      "0.7094736842105263\n",
      "301\n",
      "14.323765993118286\n",
      "0.6666666666666666\n",
      "302\n",
      "15.139085054397583\n",
      "0.5511171293161815\n",
      "303\n",
      "31.35448169708252\n",
      "0.6958062610750148\n",
      "304\n",
      "38.200334548950195\n",
      "0.6575539568345323\n",
      "305\n",
      "19.44262385368347\n",
      "0.5852918877937832\n",
      "306\n",
      "25.385411262512207\n",
      "0.2593856655290102\n",
      "307\n",
      "21.277374029159546\n",
      "0.5825908156271419\n",
      "308\n",
      "34.566739559173584\n",
      "0.6998813760379596\n",
      "309\n",
      "24.009765625\n",
      "0.5537974683544303\n",
      "310\n",
      "35.23242402076721\n",
      "0.6907775768535263\n",
      "311\n",
      "37.671470403671265\n",
      "0.6926536731634183\n",
      "312\n",
      "27.448561429977417\n",
      "0.2644808743169399\n",
      "313\n",
      "25.117406845092773\n",
      "0.6731047802993723\n",
      "314\n",
      "25.536110162734985\n",
      "0.5472186287192755\n",
      "315\n",
      "25.484200954437256\n",
      "0.6459305339554174\n",
      "316\n"
     ]
    },
    {
     "name": "stderr",
     "output_type": "stream",
     "text": [
      "/lab/dbms/fatyanosa/.userprogram/anaconda3/envs/GA-CNN/lib/python3.7/site-packages/sklearn/metrics/_classification.py:1272: UndefinedMetricWarning: Precision is ill-defined and being set to 0.0 due to no predicted samples. Use `zero_division` parameter to control this behavior.\n",
      "  _warn_prf(average, modifier, msg_start, len(result))\n"
     ]
    },
    {
     "name": "stdout",
     "output_type": "stream",
     "text": [
      "13.9983491897583\n",
      "0.0\n",
      "317\n",
      "15.192900896072388\n",
      "0.6666666666666666\n",
      "318\n",
      "24.883508920669556\n",
      "0.6926229508196721\n",
      "319\n",
      "16.015031576156616\n",
      "0.7066748315982853\n",
      "320\n",
      "20.065007209777832\n",
      "0.6325925925925925\n",
      "321\n",
      "19.55528450012207\n",
      "0.6666666666666666\n",
      "322\n",
      "19.289523601531982\n",
      "0.6666666666666666\n",
      "323\n",
      "22.635191202163696\n",
      "0.7072120559741658\n",
      "324\n",
      "19.920818328857422\n",
      "0.6868008948545861\n",
      "325\n",
      "20.148897647857666\n",
      "0.6666666666666666\n",
      "326\n"
     ]
    },
    {
     "name": "stderr",
     "output_type": "stream",
     "text": [
      "/lab/dbms/fatyanosa/.userprogram/anaconda3/envs/GA-CNN/lib/python3.7/site-packages/sklearn/metrics/_classification.py:1272: UndefinedMetricWarning: Precision is ill-defined and being set to 0.0 due to no predicted samples. Use `zero_division` parameter to control this behavior.\n",
      "  _warn_prf(average, modifier, msg_start, len(result))\n"
     ]
    },
    {
     "name": "stdout",
     "output_type": "stream",
     "text": [
      "25.116981506347656\n",
      "0.0\n",
      "327\n",
      "25.056180953979492\n",
      "0.6666666666666666\n",
      "328\n"
     ]
    },
    {
     "name": "stderr",
     "output_type": "stream",
     "text": [
      "/lab/dbms/fatyanosa/.userprogram/anaconda3/envs/GA-CNN/lib/python3.7/site-packages/sklearn/metrics/_classification.py:1272: UndefinedMetricWarning: Precision is ill-defined and being set to 0.0 due to no predicted samples. Use `zero_division` parameter to control this behavior.\n",
      "  _warn_prf(average, modifier, msg_start, len(result))\n"
     ]
    },
    {
     "name": "stdout",
     "output_type": "stream",
     "text": [
      "25.099964141845703\n",
      "0.0\n",
      "329\n",
      "25.323256492614746\n",
      "0.6666666666666666\n",
      "330\n"
     ]
    },
    {
     "name": "stderr",
     "output_type": "stream",
     "text": [
      "/lab/dbms/fatyanosa/.userprogram/anaconda3/envs/GA-CNN/lib/python3.7/site-packages/sklearn/metrics/_classification.py:1272: UndefinedMetricWarning: Precision is ill-defined and being set to 0.0 due to no predicted samples. Use `zero_division` parameter to control this behavior.\n",
      "  _warn_prf(average, modifier, msg_start, len(result))\n"
     ]
    },
    {
     "name": "stdout",
     "output_type": "stream",
     "text": [
      "26.005346536636353\n",
      "0.0\n",
      "331\n",
      "14.964500427246094\n",
      "0.6666666666666666\n",
      "332\n"
     ]
    },
    {
     "name": "stderr",
     "output_type": "stream",
     "text": [
      "/lab/dbms/fatyanosa/.userprogram/anaconda3/envs/GA-CNN/lib/python3.7/site-packages/sklearn/metrics/_classification.py:1272: UndefinedMetricWarning: Precision is ill-defined and being set to 0.0 due to no predicted samples. Use `zero_division` parameter to control this behavior.\n",
      "  _warn_prf(average, modifier, msg_start, len(result))\n"
     ]
    },
    {
     "name": "stdout",
     "output_type": "stream",
     "text": [
      "15.112045526504517\n",
      "0.0\n",
      "333\n",
      "21.809087991714478\n",
      "0.48014440433212996\n",
      "334\n",
      "17.18608832359314\n",
      "0.6334894613583139\n",
      "335\n"
     ]
    },
    {
     "name": "stderr",
     "output_type": "stream",
     "text": [
      "/lab/dbms/fatyanosa/.userprogram/anaconda3/envs/GA-CNN/lib/python3.7/site-packages/sklearn/metrics/_classification.py:1272: UndefinedMetricWarning: Precision is ill-defined and being set to 0.0 due to no predicted samples. Use `zero_division` parameter to control this behavior.\n",
      "  _warn_prf(average, modifier, msg_start, len(result))\n"
     ]
    },
    {
     "name": "stdout",
     "output_type": "stream",
     "text": [
      "15.285157442092896\n",
      "0.0\n",
      "336\n",
      "20.784586906433105\n",
      "0.6666666666666666\n",
      "337\n",
      "22.37724018096924\n",
      "0.6476091476091476\n",
      "338\n",
      "52.193726778030396\n",
      "0.6608344549125168\n",
      "339\n"
     ]
    },
    {
     "name": "stderr",
     "output_type": "stream",
     "text": [
      "/lab/dbms/fatyanosa/.userprogram/anaconda3/envs/GA-CNN/lib/python3.7/site-packages/sklearn/metrics/_classification.py:1272: UndefinedMetricWarning: Precision is ill-defined and being set to 0.0 due to no predicted samples. Use `zero_division` parameter to control this behavior.\n",
      "  _warn_prf(average, modifier, msg_start, len(result))\n"
     ]
    },
    {
     "name": "stdout",
     "output_type": "stream",
     "text": [
      "20.624649047851562\n",
      "0.0\n",
      "340\n",
      "50.45626521110535\n",
      "0.6629603891591384\n",
      "341\n"
     ]
    },
    {
     "name": "stderr",
     "output_type": "stream",
     "text": [
      "/lab/dbms/fatyanosa/.userprogram/anaconda3/envs/GA-CNN/lib/python3.7/site-packages/sklearn/metrics/_classification.py:1272: UndefinedMetricWarning: Precision is ill-defined and being set to 0.0 due to no predicted samples. Use `zero_division` parameter to control this behavior.\n",
      "  _warn_prf(average, modifier, msg_start, len(result))\n"
     ]
    },
    {
     "name": "stdout",
     "output_type": "stream",
     "text": [
      "35.64594340324402\n",
      "0.0\n",
      "342\n",
      "26.286620378494263\n",
      "0.558968058968059\n",
      "343\n"
     ]
    },
    {
     "name": "stderr",
     "output_type": "stream",
     "text": [
      "/lab/dbms/fatyanosa/.userprogram/anaconda3/envs/GA-CNN/lib/python3.7/site-packages/sklearn/metrics/_classification.py:1272: UndefinedMetricWarning: Precision is ill-defined and being set to 0.0 due to no predicted samples. Use `zero_division` parameter to control this behavior.\n",
      "  _warn_prf(average, modifier, msg_start, len(result))\n"
     ]
    },
    {
     "name": "stdout",
     "output_type": "stream",
     "text": [
      "26.40160846710205\n",
      "0.0\n",
      "344\n",
      "46.36462330818176\n",
      "0.6956521739130435\n",
      "345\n",
      "56.31799626350403\n",
      "0.7031150667514303\n",
      "346\n",
      "19.991506576538086\n",
      "0.6421875\n",
      "347\n",
      "15.055107355117798\n",
      "0.6947004608294931\n",
      "348\n",
      "27.690142154693604\n",
      "0.606492478226445\n",
      "349\n"
     ]
    },
    {
     "name": "stderr",
     "output_type": "stream",
     "text": [
      "/lab/dbms/fatyanosa/.userprogram/anaconda3/envs/GA-CNN/lib/python3.7/site-packages/sklearn/metrics/_classification.py:1272: UndefinedMetricWarning: Precision is ill-defined and being set to 0.0 due to no predicted samples. Use `zero_division` parameter to control this behavior.\n",
      "  _warn_prf(average, modifier, msg_start, len(result))\n"
     ]
    },
    {
     "name": "stdout",
     "output_type": "stream",
     "text": [
      "15.175676822662354\n",
      "0.0\n",
      "350\n",
      "21.166105031967163\n",
      "0.6701570680628273\n",
      "351\n"
     ]
    },
    {
     "name": "stderr",
     "output_type": "stream",
     "text": [
      "/lab/dbms/fatyanosa/.userprogram/anaconda3/envs/GA-CNN/lib/python3.7/site-packages/sklearn/metrics/_classification.py:1272: UndefinedMetricWarning: Precision is ill-defined and being set to 0.0 due to no predicted samples. Use `zero_division` parameter to control this behavior.\n",
      "  _warn_prf(average, modifier, msg_start, len(result))\n"
     ]
    },
    {
     "name": "stdout",
     "output_type": "stream",
     "text": [
      "20.5709969997406\n",
      "0.0\n",
      "352\n",
      "29.59792160987854\n",
      "0.6669842782277275\n",
      "353\n",
      "30.113672018051147\n",
      "0.6280991735537191\n",
      "354\n",
      "20.81444215774536\n",
      "0.64314171883893\n",
      "355\n",
      "24.139689922332764\n",
      "0.6662116040955632\n",
      "356\n"
     ]
    },
    {
     "name": "stderr",
     "output_type": "stream",
     "text": [
      "/lab/dbms/fatyanosa/.userprogram/anaconda3/envs/GA-CNN/lib/python3.7/site-packages/sklearn/metrics/_classification.py:1272: UndefinedMetricWarning: Precision is ill-defined and being set to 0.0 due to no predicted samples. Use `zero_division` parameter to control this behavior.\n",
      "  _warn_prf(average, modifier, msg_start, len(result))\n"
     ]
    },
    {
     "name": "stdout",
     "output_type": "stream",
     "text": [
      "26.222108840942383\n",
      "0.0\n",
      "357\n",
      "40.540059089660645\n",
      "0.5480176211453746\n",
      "358\n"
     ]
    },
    {
     "name": "stderr",
     "output_type": "stream",
     "text": [
      "/lab/dbms/fatyanosa/.userprogram/anaconda3/envs/GA-CNN/lib/python3.7/site-packages/sklearn/metrics/_classification.py:1272: UndefinedMetricWarning: Precision is ill-defined and being set to 0.0 due to no predicted samples. Use `zero_division` parameter to control this behavior.\n",
      "  _warn_prf(average, modifier, msg_start, len(result))\n"
     ]
    },
    {
     "name": "stdout",
     "output_type": "stream",
     "text": [
      "26.786648273468018\n",
      "0.0\n",
      "359\n",
      "28.41464877128601\n",
      "0.6953781512605042\n",
      "360\n",
      "26.73189687728882\n",
      "0.6666666666666666\n",
      "361\n"
     ]
    },
    {
     "name": "stderr",
     "output_type": "stream",
     "text": [
      "/lab/dbms/fatyanosa/.userprogram/anaconda3/envs/GA-CNN/lib/python3.7/site-packages/sklearn/metrics/_classification.py:1272: UndefinedMetricWarning: Precision is ill-defined and being set to 0.0 due to no predicted samples. Use `zero_division` parameter to control this behavior.\n",
      "  _warn_prf(average, modifier, msg_start, len(result))\n"
     ]
    },
    {
     "name": "stdout",
     "output_type": "stream",
     "text": [
      "13.13187289237976\n",
      "0.0\n",
      "362\n",
      "52.68460273742676\n",
      "0.6750156543519098\n",
      "363\n",
      "24.83660578727722\n",
      "0.6544578313253012\n",
      "364\n",
      "21.821657419204712\n",
      "0.209165687426557\n",
      "365\n",
      "19.864220142364502\n",
      "0.40863787375415284\n",
      "366\n",
      "45.815950870513916\n",
      "0.14728682170542637\n",
      "367\n",
      "27.962685346603394\n",
      "0.3378640776699029\n",
      "368\n",
      "18.33473825454712\n",
      "0.6666666666666666\n",
      "369\n",
      "18.238330841064453\n",
      "0.656964656964657\n",
      "370\n",
      "18.775431394577026\n",
      "0.6666666666666666\n",
      "371\n",
      "79.89688229560852\n",
      "0.7041389882473172\n",
      "372\n"
     ]
    },
    {
     "name": "stderr",
     "output_type": "stream",
     "text": [
      "/lab/dbms/fatyanosa/.userprogram/anaconda3/envs/GA-CNN/lib/python3.7/site-packages/sklearn/metrics/_classification.py:1272: UndefinedMetricWarning: Precision is ill-defined and being set to 0.0 due to no predicted samples. Use `zero_division` parameter to control this behavior.\n",
      "  _warn_prf(average, modifier, msg_start, len(result))\n"
     ]
    },
    {
     "name": "stdout",
     "output_type": "stream",
     "text": [
      "22.938612937927246\n",
      "0.0\n",
      "373\n",
      "22.78665804862976\n",
      "0.6666666666666666\n",
      "374\n",
      "35.127851486206055\n",
      "0.40878701050620825\n",
      "375\n",
      "26.697741746902466\n",
      "0.5680473372781065\n",
      "376\n",
      "30.849315643310547\n",
      "0.5662759242560866\n",
      "377\n",
      "16.98227882385254\n",
      "0.6895748398369248\n",
      "378\n",
      "13.766090631484985\n",
      "0.618307426597582\n",
      "379\n",
      "13.33354640007019\n",
      "0.6666666666666666\n",
      "380\n",
      "15.419416189193726\n",
      "0.6342123056118999\n",
      "381\n"
     ]
    },
    {
     "name": "stderr",
     "output_type": "stream",
     "text": [
      "/lab/dbms/fatyanosa/.userprogram/anaconda3/envs/GA-CNN/lib/python3.7/site-packages/sklearn/metrics/_classification.py:1272: UndefinedMetricWarning: Precision is ill-defined and being set to 0.0 due to no predicted samples. Use `zero_division` parameter to control this behavior.\n",
      "  _warn_prf(average, modifier, msg_start, len(result))\n"
     ]
    },
    {
     "name": "stdout",
     "output_type": "stream",
     "text": [
      "18.294124603271484\n",
      "0.0\n",
      "382\n",
      "21.51230788230896\n",
      "0.6940211019929661\n",
      "383\n",
      "22.440303325653076\n",
      "0.684010152284264\n",
      "384\n",
      "18.189481019973755\n",
      "0.6636948984645864\n",
      "385\n",
      "21.303192377090454\n",
      "0.5866666666666668\n",
      "386\n",
      "22.985285997390747\n",
      "0.6666666666666666\n",
      "387\n",
      "49.985249519348145\n",
      "0.5574660633484163\n",
      "388\n",
      "22.76133394241333\n",
      "0.6666666666666666\n",
      "389\n",
      "66.74070167541504\n",
      "0.5679442508710801\n",
      "390\n",
      "34.69201707839966\n",
      "0.6825479026411184\n",
      "391\n"
     ]
    },
    {
     "name": "stderr",
     "output_type": "stream",
     "text": [
      "/lab/dbms/fatyanosa/.userprogram/anaconda3/envs/GA-CNN/lib/python3.7/site-packages/sklearn/metrics/_classification.py:1272: UndefinedMetricWarning: Precision is ill-defined and being set to 0.0 due to no predicted samples. Use `zero_division` parameter to control this behavior.\n",
      "  _warn_prf(average, modifier, msg_start, len(result))\n"
     ]
    },
    {
     "name": "stdout",
     "output_type": "stream",
     "text": [
      "12.570842742919922\n",
      "0.0\n",
      "392\n"
     ]
    },
    {
     "name": "stderr",
     "output_type": "stream",
     "text": [
      "/lab/dbms/fatyanosa/.userprogram/anaconda3/envs/GA-CNN/lib/python3.7/site-packages/sklearn/metrics/_classification.py:1272: UndefinedMetricWarning: Precision is ill-defined and being set to 0.0 due to no predicted samples. Use `zero_division` parameter to control this behavior.\n",
      "  _warn_prf(average, modifier, msg_start, len(result))\n"
     ]
    },
    {
     "name": "stdout",
     "output_type": "stream",
     "text": [
      "12.138832092285156\n",
      "0.0\n",
      "393\n",
      "80.47953915596008\n",
      "0.45371775417298943\n",
      "394\n",
      "80.41119575500488\n",
      "0.5182481751824817\n",
      "395\n",
      "46.42303967475891\n",
      "0.596432552954292\n",
      "396\n"
     ]
    },
    {
     "name": "stderr",
     "output_type": "stream",
     "text": [
      "/lab/dbms/fatyanosa/.userprogram/anaconda3/envs/GA-CNN/lib/python3.7/site-packages/sklearn/metrics/_classification.py:1272: UndefinedMetricWarning: Precision is ill-defined and being set to 0.0 due to no predicted samples. Use `zero_division` parameter to control this behavior.\n",
      "  _warn_prf(average, modifier, msg_start, len(result))\n"
     ]
    },
    {
     "name": "stdout",
     "output_type": "stream",
     "text": [
      "16.869651794433594\n",
      "0.0\n",
      "397\n",
      "16.775195360183716\n",
      "0.5500340367597004\n",
      "398\n"
     ]
    },
    {
     "name": "stderr",
     "output_type": "stream",
     "text": [
      "/lab/dbms/fatyanosa/.userprogram/anaconda3/envs/GA-CNN/lib/python3.7/site-packages/sklearn/metrics/_classification.py:1272: UndefinedMetricWarning: Precision is ill-defined and being set to 0.0 due to no predicted samples. Use `zero_division` parameter to control this behavior.\n",
      "  _warn_prf(average, modifier, msg_start, len(result))\n"
     ]
    },
    {
     "name": "stdout",
     "output_type": "stream",
     "text": [
      "16.233121395111084\n",
      "0.0\n",
      "399\n",
      "16.316680192947388\n",
      "0.6666666666666666\n",
      "400\n",
      "43.18064045906067\n",
      "0.08398950131233596\n",
      "401\n"
     ]
    },
    {
     "name": "stderr",
     "output_type": "stream",
     "text": [
      "/lab/dbms/fatyanosa/.userprogram/anaconda3/envs/GA-CNN/lib/python3.7/site-packages/sklearn/metrics/_classification.py:1272: UndefinedMetricWarning: Precision is ill-defined and being set to 0.0 due to no predicted samples. Use `zero_division` parameter to control this behavior.\n",
      "  _warn_prf(average, modifier, msg_start, len(result))\n"
     ]
    },
    {
     "name": "stdout",
     "output_type": "stream",
     "text": [
      "20.032639503479004\n",
      "0.0\n",
      "402\n",
      "19.975226640701294\n",
      "0.0\n",
      "403\n"
     ]
    },
    {
     "name": "stderr",
     "output_type": "stream",
     "text": [
      "/lab/dbms/fatyanosa/.userprogram/anaconda3/envs/GA-CNN/lib/python3.7/site-packages/sklearn/metrics/_classification.py:1272: UndefinedMetricWarning: Precision is ill-defined and being set to 0.0 due to no predicted samples. Use `zero_division` parameter to control this behavior.\n",
      "  _warn_prf(average, modifier, msg_start, len(result))\n"
     ]
    },
    {
     "name": "stdout",
     "output_type": "stream",
     "text": [
      "19.9194016456604\n",
      "0.0\n",
      "404\n",
      "20.24879741668701\n",
      "0.022068965517241378\n",
      "405\n",
      "157.92322516441345\n",
      "0.6321709786276715\n",
      "406\n"
     ]
    },
    {
     "name": "stderr",
     "output_type": "stream",
     "text": [
      "/lab/dbms/fatyanosa/.userprogram/anaconda3/envs/GA-CNN/lib/python3.7/site-packages/sklearn/metrics/_classification.py:1272: UndefinedMetricWarning: Precision is ill-defined and being set to 0.0 due to no predicted samples. Use `zero_division` parameter to control this behavior.\n",
      "  _warn_prf(average, modifier, msg_start, len(result))\n"
     ]
    },
    {
     "name": "stdout",
     "output_type": "stream",
     "text": [
      "12.437083721160889\n",
      "0.0\n",
      "407\n"
     ]
    },
    {
     "name": "stderr",
     "output_type": "stream",
     "text": [
      "/lab/dbms/fatyanosa/.userprogram/anaconda3/envs/GA-CNN/lib/python3.7/site-packages/sklearn/metrics/_classification.py:1272: UndefinedMetricWarning: Precision is ill-defined and being set to 0.0 due to no predicted samples. Use `zero_division` parameter to control this behavior.\n",
      "  _warn_prf(average, modifier, msg_start, len(result))\n"
     ]
    },
    {
     "name": "stdout",
     "output_type": "stream",
     "text": [
      "11.981603622436523\n",
      "0.0\n",
      "408\n",
      "12.571521043777466\n",
      "0.6526315789473685\n",
      "409\n"
     ]
    },
    {
     "name": "stderr",
     "output_type": "stream",
     "text": [
      "/lab/dbms/fatyanosa/.userprogram/anaconda3/envs/GA-CNN/lib/python3.7/site-packages/sklearn/metrics/_classification.py:1272: UndefinedMetricWarning: Precision is ill-defined and being set to 0.0 due to no predicted samples. Use `zero_division` parameter to control this behavior.\n",
      "  _warn_prf(average, modifier, msg_start, len(result))\n"
     ]
    },
    {
     "name": "stdout",
     "output_type": "stream",
     "text": [
      "12.30054259300232\n",
      "0.0\n",
      "410\n",
      "12.748383522033691\n",
      "0.07493540051679586\n",
      "411\n"
     ]
    },
    {
     "name": "stderr",
     "output_type": "stream",
     "text": [
      "/lab/dbms/fatyanosa/.userprogram/anaconda3/envs/GA-CNN/lib/python3.7/site-packages/sklearn/metrics/_classification.py:1272: UndefinedMetricWarning: Precision is ill-defined and being set to 0.0 due to no predicted samples. Use `zero_division` parameter to control this behavior.\n",
      "  _warn_prf(average, modifier, msg_start, len(result))\n"
     ]
    },
    {
     "name": "stdout",
     "output_type": "stream",
     "text": [
      "16.699674606323242\n",
      "0.0\n",
      "412\n"
     ]
    },
    {
     "name": "stderr",
     "output_type": "stream",
     "text": [
      "/lab/dbms/fatyanosa/.userprogram/anaconda3/envs/GA-CNN/lib/python3.7/site-packages/sklearn/metrics/_classification.py:1272: UndefinedMetricWarning: Precision is ill-defined and being set to 0.0 due to no predicted samples. Use `zero_division` parameter to control this behavior.\n",
      "  _warn_prf(average, modifier, msg_start, len(result))\n"
     ]
    },
    {
     "name": "stdout",
     "output_type": "stream",
     "text": [
      "16.342139959335327\n",
      "0.0\n",
      "413\n",
      "29.533576488494873\n",
      "0.653977550024402\n",
      "414\n",
      "18.014716625213623\n",
      "0.008333333333333333\n",
      "415\n",
      "16.805976152420044\n",
      "0.6724553786782441\n",
      "416\n"
     ]
    },
    {
     "name": "stderr",
     "output_type": "stream",
     "text": [
      "/lab/dbms/fatyanosa/.userprogram/anaconda3/envs/GA-CNN/lib/python3.7/site-packages/sklearn/metrics/_classification.py:1272: UndefinedMetricWarning: Precision is ill-defined and being set to 0.0 due to no predicted samples. Use `zero_division` parameter to control this behavior.\n",
      "  _warn_prf(average, modifier, msg_start, len(result))\n"
     ]
    },
    {
     "name": "stdout",
     "output_type": "stream",
     "text": [
      "20.31910753250122\n",
      "0.0\n",
      "417\n",
      "30.711076021194458\n",
      "0.6024774774774775\n",
      "418\n",
      "28.53911018371582\n",
      "0.008368200836820085\n",
      "419\n"
     ]
    },
    {
     "name": "stderr",
     "output_type": "stream",
     "text": [
      "/lab/dbms/fatyanosa/.userprogram/anaconda3/envs/GA-CNN/lib/python3.7/site-packages/sklearn/metrics/_classification.py:1272: UndefinedMetricWarning: Precision is ill-defined and being set to 0.0 due to no predicted samples. Use `zero_division` parameter to control this behavior.\n",
      "  _warn_prf(average, modifier, msg_start, len(result))\n"
     ]
    },
    {
     "name": "stdout",
     "output_type": "stream",
     "text": [
      "20.94102454185486\n",
      "0.0\n",
      "420\n",
      "38.441022872924805\n",
      "0.5964912280701754\n",
      "421\n",
      "22.35101318359375\n",
      "0.30489192263936293\n",
      "422\n"
     ]
    },
    {
     "name": "stderr",
     "output_type": "stream",
     "text": [
      "/lab/dbms/fatyanosa/.userprogram/anaconda3/envs/GA-CNN/lib/python3.7/site-packages/sklearn/metrics/_classification.py:1272: UndefinedMetricWarning: Precision is ill-defined and being set to 0.0 due to no predicted samples. Use `zero_division` parameter to control this behavior.\n",
      "  _warn_prf(average, modifier, msg_start, len(result))\n"
     ]
    },
    {
     "name": "stdout",
     "output_type": "stream",
     "text": [
      "26.16105318069458\n",
      "0.0\n",
      "423\n",
      "15.510417938232422\n",
      "0.6355748373101953\n",
      "424\n",
      "24.480847120285034\n",
      "0.6952988972721996\n",
      "425\n",
      "14.827889442443848\n",
      "0.0\n",
      "426\n",
      "25.832404613494873\n",
      "0.6862549800796812\n",
      "427\n",
      "21.424803018569946\n",
      "0.5347670250896056\n",
      "428\n",
      "54.90948009490967\n",
      "0.6829865361077111\n",
      "429\n",
      "20.06302762031555\n",
      "0.6859547606522882\n",
      "430\n",
      "23.42506980895996\n",
      "0.5674201091192518\n",
      "431\n"
     ]
    },
    {
     "name": "stderr",
     "output_type": "stream",
     "text": [
      "/lab/dbms/fatyanosa/.userprogram/anaconda3/envs/GA-CNN/lib/python3.7/site-packages/sklearn/metrics/_classification.py:1272: UndefinedMetricWarning: Precision is ill-defined and being set to 0.0 due to no predicted samples. Use `zero_division` parameter to control this behavior.\n",
      "  _warn_prf(average, modifier, msg_start, len(result))\n"
     ]
    },
    {
     "name": "stdout",
     "output_type": "stream",
     "text": [
      "25.35750651359558\n",
      "0.0\n",
      "432\n",
      "31.19167685508728\n",
      "0.2854006586169045\n",
      "433\n",
      "25.052558183670044\n",
      "0.6438569206842925\n",
      "434\n",
      "32.527722120285034\n",
      "0.6962885520125458\n",
      "435\n",
      "29.02072501182556\n",
      "0.4594594594594595\n",
      "436\n"
     ]
    },
    {
     "name": "stderr",
     "output_type": "stream",
     "text": [
      "/lab/dbms/fatyanosa/.userprogram/anaconda3/envs/GA-CNN/lib/python3.7/site-packages/sklearn/metrics/_classification.py:1272: UndefinedMetricWarning: Precision is ill-defined and being set to 0.0 due to no predicted samples. Use `zero_division` parameter to control this behavior.\n",
      "  _warn_prf(average, modifier, msg_start, len(result))\n"
     ]
    },
    {
     "name": "stdout",
     "output_type": "stream",
     "text": [
      "14.760062217712402\n",
      "0.0\n",
      "437\n",
      "30.31600856781006\n",
      "0.5964343598055105\n",
      "438\n"
     ]
    },
    {
     "name": "stderr",
     "output_type": "stream",
     "text": [
      "/lab/dbms/fatyanosa/.userprogram/anaconda3/envs/GA-CNN/lib/python3.7/site-packages/sklearn/metrics/_classification.py:1272: UndefinedMetricWarning: Precision is ill-defined and being set to 0.0 due to no predicted samples. Use `zero_division` parameter to control this behavior.\n",
      "  _warn_prf(average, modifier, msg_start, len(result))\n"
     ]
    },
    {
     "name": "stdout",
     "output_type": "stream",
     "text": [
      "14.265056371688843\n",
      "0.0\n",
      "439\n",
      "14.447662830352783\n",
      "0.6653937947494033\n",
      "440\n",
      "17.9101779460907\n",
      "0.7049808429118775\n",
      "441\n"
     ]
    },
    {
     "name": "stderr",
     "output_type": "stream",
     "text": [
      "/lab/dbms/fatyanosa/.userprogram/anaconda3/envs/GA-CNN/lib/python3.7/site-packages/sklearn/metrics/_classification.py:1272: UndefinedMetricWarning: Precision is ill-defined and being set to 0.0 due to no predicted samples. Use `zero_division` parameter to control this behavior.\n",
      "  _warn_prf(average, modifier, msg_start, len(result))\n"
     ]
    },
    {
     "name": "stdout",
     "output_type": "stream",
     "text": [
      "20.464674949645996\n",
      "0.0\n",
      "442\n",
      "24.222073316574097\n",
      "0.7034482758620689\n",
      "443\n",
      "20.254817962646484\n",
      "0.7001102535832415\n",
      "444\n",
      "22.03373098373413\n",
      "0.6887856668878567\n",
      "445\n",
      "26.044133186340332\n",
      "0.7237635705669482\n",
      "446\n"
     ]
    },
    {
     "name": "stderr",
     "output_type": "stream",
     "text": [
      "/lab/dbms/fatyanosa/.userprogram/anaconda3/envs/GA-CNN/lib/python3.7/site-packages/sklearn/metrics/_classification.py:1272: UndefinedMetricWarning: Precision is ill-defined and being set to 0.0 due to no predicted samples. Use `zero_division` parameter to control this behavior.\n",
      "  _warn_prf(average, modifier, msg_start, len(result))\n"
     ]
    },
    {
     "name": "stdout",
     "output_type": "stream",
     "text": [
      "25.047247648239136\n",
      "0.0\n",
      "447\n",
      "40.04368209838867\n",
      "0.6661818181818182\n",
      "448\n",
      "42.180495738983154\n",
      "0.6757123473541383\n",
      "449\n",
      "31.427736520767212\n",
      "0.7140566541956173\n",
      "450\n",
      "29.115076780319214\n",
      "0.707033639143731\n",
      "451\n",
      "11.724771499633789\n",
      "0.6666666666666666\n",
      "452\n",
      "15.099263429641724\n",
      "0.24115044247787612\n",
      "453\n"
     ]
    },
    {
     "name": "stderr",
     "output_type": "stream",
     "text": [
      "/lab/dbms/fatyanosa/.userprogram/anaconda3/envs/GA-CNN/lib/python3.7/site-packages/sklearn/metrics/_classification.py:1272: UndefinedMetricWarning: Precision is ill-defined and being set to 0.0 due to no predicted samples. Use `zero_division` parameter to control this behavior.\n",
      "  _warn_prf(average, modifier, msg_start, len(result))\n"
     ]
    },
    {
     "name": "stdout",
     "output_type": "stream",
     "text": [
      "12.060468435287476\n",
      "0.0\n",
      "454\n",
      "25.405924320220947\n",
      "0.6666666666666666\n",
      "455\n"
     ]
    },
    {
     "name": "stderr",
     "output_type": "stream",
     "text": [
      "/lab/dbms/fatyanosa/.userprogram/anaconda3/envs/GA-CNN/lib/python3.7/site-packages/sklearn/metrics/_classification.py:1272: UndefinedMetricWarning: Precision is ill-defined and being set to 0.0 due to no predicted samples. Use `zero_division` parameter to control this behavior.\n",
      "  _warn_prf(average, modifier, msg_start, len(result))\n"
     ]
    },
    {
     "name": "stdout",
     "output_type": "stream",
     "text": [
      "11.980762720108032\n",
      "0.0\n",
      "456\n"
     ]
    },
    {
     "name": "stderr",
     "output_type": "stream",
     "text": [
      "/lab/dbms/fatyanosa/.userprogram/anaconda3/envs/GA-CNN/lib/python3.7/site-packages/sklearn/metrics/_classification.py:1272: UndefinedMetricWarning: Precision is ill-defined and being set to 0.0 due to no predicted samples. Use `zero_division` parameter to control this behavior.\n",
      "  _warn_prf(average, modifier, msg_start, len(result))\n"
     ]
    },
    {
     "name": "stdout",
     "output_type": "stream",
     "text": [
      "16.152056455612183\n",
      "0.0\n",
      "457\n",
      "31.1430721282959\n",
      "0.6967359050445104\n",
      "458\n",
      "16.315555572509766\n",
      "0.6666666666666666\n",
      "459\n",
      "18.790653228759766\n",
      "0.3428571428571428\n",
      "460\n"
     ]
    },
    {
     "name": "stderr",
     "output_type": "stream",
     "text": [
      "/lab/dbms/fatyanosa/.userprogram/anaconda3/envs/GA-CNN/lib/python3.7/site-packages/sklearn/metrics/_classification.py:1272: UndefinedMetricWarning: Precision is ill-defined and being set to 0.0 due to no predicted samples. Use `zero_division` parameter to control this behavior.\n",
      "  _warn_prf(average, modifier, msg_start, len(result))\n"
     ]
    },
    {
     "name": "stdout",
     "output_type": "stream",
     "text": [
      "16.418490886688232\n",
      "0.0\n",
      "461\n",
      "51.089550256729126\n",
      "0.16752577319587628\n",
      "462\n",
      "20.23869252204895\n",
      "0.6666666666666666\n",
      "463\n",
      "46.706857681274414\n",
      "0.7122955784373107\n",
      "464\n"
     ]
    },
    {
     "name": "stderr",
     "output_type": "stream",
     "text": [
      "/lab/dbms/fatyanosa/.userprogram/anaconda3/envs/GA-CNN/lib/python3.7/site-packages/sklearn/metrics/_classification.py:1272: UndefinedMetricWarning: Precision is ill-defined and being set to 0.0 due to no predicted samples. Use `zero_division` parameter to control this behavior.\n",
      "  _warn_prf(average, modifier, msg_start, len(result))\n"
     ]
    },
    {
     "name": "stdout",
     "output_type": "stream",
     "text": [
      "20.68055272102356\n",
      "0.0\n",
      "465\n",
      "23.992185831069946\n",
      "0.42050390964378803\n",
      "466\n"
     ]
    },
    {
     "name": "stderr",
     "output_type": "stream",
     "text": [
      "/lab/dbms/fatyanosa/.userprogram/anaconda3/envs/GA-CNN/lib/python3.7/site-packages/sklearn/metrics/_classification.py:1272: UndefinedMetricWarning: Precision is ill-defined and being set to 0.0 due to no predicted samples. Use `zero_division` parameter to control this behavior.\n",
      "  _warn_prf(average, modifier, msg_start, len(result))\n"
     ]
    },
    {
     "name": "stdout",
     "output_type": "stream",
     "text": [
      "11.684809684753418\n",
      "0.0\n",
      "467\n",
      "15.88312554359436\n",
      "0.6774595267745952\n",
      "468\n",
      "15.033949613571167\n",
      "0.6932026944274342\n",
      "469\n",
      "11.753996849060059\n",
      "0.6666666666666666\n",
      "470\n",
      "11.63033676147461\n",
      "0.6708193579300431\n",
      "471\n",
      "19.4584379196167\n",
      "0.6666666666666666\n",
      "472\n",
      "17.117999792099\n",
      "0.5817378497790869\n",
      "473\n",
      "16.291466236114502\n",
      "0.671147383581373\n",
      "474\n",
      "20.55181050300598\n",
      "0.7033997655334115\n",
      "475\n",
      "16.739777088165283\n",
      "0.6666666666666666\n",
      "476\n"
     ]
    },
    {
     "name": "stderr",
     "output_type": "stream",
     "text": [
      "/lab/dbms/fatyanosa/.userprogram/anaconda3/envs/GA-CNN/lib/python3.7/site-packages/sklearn/metrics/_classification.py:1272: UndefinedMetricWarning: Precision is ill-defined and being set to 0.0 due to no predicted samples. Use `zero_division` parameter to control this behavior.\n",
      "  _warn_prf(average, modifier, msg_start, len(result))\n"
     ]
    },
    {
     "name": "stdout",
     "output_type": "stream",
     "text": [
      "20.934572458267212\n",
      "0.0\n",
      "477\n"
     ]
    },
    {
     "name": "stderr",
     "output_type": "stream",
     "text": [
      "/lab/dbms/fatyanosa/.userprogram/anaconda3/envs/GA-CNN/lib/python3.7/site-packages/sklearn/metrics/_classification.py:1272: UndefinedMetricWarning: Precision is ill-defined and being set to 0.0 due to no predicted samples. Use `zero_division` parameter to control this behavior.\n",
      "  _warn_prf(average, modifier, msg_start, len(result))\n"
     ]
    },
    {
     "name": "stdout",
     "output_type": "stream",
     "text": [
      "20.865337371826172\n",
      "0.0\n",
      "478\n",
      "22.456254243850708\n",
      "0.7158536585365853\n",
      "479\n",
      "23.488858461380005\n",
      "0.7061503416856493\n",
      "480\n",
      "27.155932664871216\n",
      "0.5322128851540616\n",
      "481\n",
      "21.507073640823364\n",
      "0.3424209378407852\n",
      "482\n",
      "12.89655065536499\n",
      "0.6669842782277275\n",
      "483\n",
      "19.98762798309326\n",
      "0.6608946608946609\n",
      "484\n"
     ]
    },
    {
     "name": "stderr",
     "output_type": "stream",
     "text": [
      "/lab/dbms/fatyanosa/.userprogram/anaconda3/envs/GA-CNN/lib/python3.7/site-packages/sklearn/metrics/_classification.py:1272: UndefinedMetricWarning: Precision is ill-defined and being set to 0.0 due to no predicted samples. Use `zero_division` parameter to control this behavior.\n",
      "  _warn_prf(average, modifier, msg_start, len(result))\n"
     ]
    },
    {
     "name": "stdout",
     "output_type": "stream",
     "text": [
      "13.083001375198364\n",
      "0.0\n",
      "485\n",
      "13.114476919174194\n",
      "0.6721153846153847\n",
      "486\n",
      "16.85711669921875\n",
      "0.6666666666666666\n",
      "487\n",
      "56.90503692626953\n",
      "0.6995884773662552\n",
      "488\n",
      "17.43792486190796\n",
      "0.6679518072289157\n",
      "489\n",
      "17.279975175857544\n",
      "0.6751787538304392\n",
      "490\n",
      "44.199873208999634\n",
      "0.6627062706270628\n",
      "491\n"
     ]
    },
    {
     "name": "stderr",
     "output_type": "stream",
     "text": [
      "/lab/dbms/fatyanosa/.userprogram/anaconda3/envs/GA-CNN/lib/python3.7/site-packages/sklearn/metrics/_classification.py:1272: UndefinedMetricWarning: Precision is ill-defined and being set to 0.0 due to no predicted samples. Use `zero_division` parameter to control this behavior.\n",
      "  _warn_prf(average, modifier, msg_start, len(result))\n"
     ]
    },
    {
     "name": "stdout",
     "output_type": "stream",
     "text": [
      "22.29363179206848\n",
      "0.0\n",
      "492\n",
      "21.659252643585205\n",
      "0.670837343599615\n",
      "493\n",
      "25.02181386947632\n",
      "0.6289243437982501\n",
      "494\n",
      "27.540412425994873\n",
      "0.5116279069767442\n",
      "495\n",
      "34.42796015739441\n",
      "0.6865329512893983\n",
      "496\n"
     ]
    },
    {
     "name": "stderr",
     "output_type": "stream",
     "text": [
      "/lab/dbms/fatyanosa/.userprogram/anaconda3/envs/GA-CNN/lib/python3.7/site-packages/sklearn/metrics/_classification.py:1272: UndefinedMetricWarning: Precision is ill-defined and being set to 0.0 due to no predicted samples. Use `zero_division` parameter to control this behavior.\n",
      "  _warn_prf(average, modifier, msg_start, len(result))\n"
     ]
    },
    {
     "name": "stdout",
     "output_type": "stream",
     "text": [
      "13.26666522026062\n",
      "0.0\n",
      "497\n",
      "16.4606671333313\n",
      "0.7078576225654802\n",
      "498\n",
      "17.95578670501709\n",
      "0.5777777777777778\n",
      "499\n",
      "12.998650789260864\n",
      "0.6698795180722892\n",
      "500\n",
      "14.584722995758057\n",
      "0.6854219948849104\n",
      "501\n",
      "17.539632320404053\n",
      "0.6666666666666666\n",
      "502\n",
      "19.43296766281128\n",
      "0.6976264189886482\n",
      "503\n"
     ]
    },
    {
     "name": "stderr",
     "output_type": "stream",
     "text": [
      "/lab/dbms/fatyanosa/.userprogram/anaconda3/envs/GA-CNN/lib/python3.7/site-packages/sklearn/metrics/_classification.py:1272: UndefinedMetricWarning: Precision is ill-defined and being set to 0.0 due to no predicted samples. Use `zero_division` parameter to control this behavior.\n",
      "  _warn_prf(average, modifier, msg_start, len(result))\n"
     ]
    },
    {
     "name": "stdout",
     "output_type": "stream",
     "text": [
      "17.41010332107544\n",
      "0.0\n",
      "504\n",
      "23.874849796295166\n",
      "0.6820475847152127\n",
      "505\n",
      "31.998027324676514\n",
      "0.6697068403908795\n",
      "506\n",
      "21.763705015182495\n",
      "0.6666666666666666\n",
      "507\n",
      "26.06240439414978\n",
      "0.7033265444670741\n",
      "508\n",
      "31.83799171447754\n",
      "0.6956521739130436\n",
      "509\n",
      "23.531534433364868\n",
      "0.7018087855297157\n",
      "510\n",
      "21.97286605834961\n",
      "0.6666666666666666\n",
      "511\n"
     ]
    },
    {
     "name": "stderr",
     "output_type": "stream",
     "text": [
      "/lab/dbms/fatyanosa/.userprogram/anaconda3/envs/GA-CNN/lib/python3.7/site-packages/sklearn/metrics/_classification.py:1272: UndefinedMetricWarning: Precision is ill-defined and being set to 0.0 due to no predicted samples. Use `zero_division` parameter to control this behavior.\n",
      "  _warn_prf(average, modifier, msg_start, len(result))\n"
     ]
    },
    {
     "name": "stdout",
     "output_type": "stream",
     "text": [
      "12.250168085098267\n",
      "0.0\n",
      "512\n",
      "17.718612670898438\n",
      "0.4527363184079602\n",
      "513\n",
      "11.539336442947388\n",
      "0.6666666666666666\n",
      "514\n",
      "15.023797750473022\n",
      "0.4096989966555184\n",
      "515\n",
      "11.620245933532715\n",
      "0.008379888268156426\n",
      "516\n",
      "21.87912607192993\n",
      "0.19036144578313252\n",
      "517\n",
      "20.21214485168457\n",
      "0.44972288202692\n",
      "518\n"
     ]
    },
    {
     "name": "stderr",
     "output_type": "stream",
     "text": [
      "/lab/dbms/fatyanosa/.userprogram/anaconda3/envs/GA-CNN/lib/python3.7/site-packages/sklearn/metrics/_classification.py:1272: UndefinedMetricWarning: Precision is ill-defined and being set to 0.0 due to no predicted samples. Use `zero_division` parameter to control this behavior.\n",
      "  _warn_prf(average, modifier, msg_start, len(result))\n"
     ]
    },
    {
     "name": "stdout",
     "output_type": "stream",
     "text": [
      "16.022425413131714\n",
      "0.0\n",
      "519\n",
      "17.044679403305054\n",
      "0.6753875968992248\n",
      "520\n",
      "39.0152542591095\n",
      "0.44230769230769235\n",
      "521\n",
      "41.394603967666626\n",
      "0.6676370693837942\n",
      "522\n"
     ]
    },
    {
     "name": "stderr",
     "output_type": "stream",
     "text": [
      "/lab/dbms/fatyanosa/.userprogram/anaconda3/envs/GA-CNN/lib/python3.7/site-packages/sklearn/metrics/_classification.py:1272: UndefinedMetricWarning: Precision is ill-defined and being set to 0.0 due to no predicted samples. Use `zero_division` parameter to control this behavior.\n",
      "  _warn_prf(average, modifier, msg_start, len(result))\n"
     ]
    },
    {
     "name": "stdout",
     "output_type": "stream",
     "text": [
      "19.514061212539673\n",
      "0.0\n",
      "523\n",
      "20.989615201950073\n",
      "0.6003450258769408\n",
      "524\n",
      "19.84473156929016\n",
      "0.6716417910447762\n",
      "525\n"
     ]
    },
    {
     "name": "stderr",
     "output_type": "stream",
     "text": [
      "/lab/dbms/fatyanosa/.userprogram/anaconda3/envs/GA-CNN/lib/python3.7/site-packages/sklearn/metrics/_classification.py:1272: UndefinedMetricWarning: Precision is ill-defined and being set to 0.0 due to no predicted samples. Use `zero_division` parameter to control this behavior.\n",
      "  _warn_prf(average, modifier, msg_start, len(result))\n"
     ]
    },
    {
     "name": "stdout",
     "output_type": "stream",
     "text": [
      "20.09433150291443\n",
      "0.0\n",
      "526\n"
     ]
    },
    {
     "name": "stderr",
     "output_type": "stream",
     "text": [
      "/lab/dbms/fatyanosa/.userprogram/anaconda3/envs/GA-CNN/lib/python3.7/site-packages/sklearn/metrics/_classification.py:1272: UndefinedMetricWarning: Precision is ill-defined and being set to 0.0 due to no predicted samples. Use `zero_division` parameter to control this behavior.\n",
      "  _warn_prf(average, modifier, msg_start, len(result))\n"
     ]
    },
    {
     "name": "stdout",
     "output_type": "stream",
     "text": [
      "11.802899837493896\n",
      "0.0\n",
      "527\n",
      "16.01064419746399\n",
      "0.6857142857142857\n",
      "528\n",
      "12.321112632751465\n",
      "0.6669842782277275\n",
      "529\n",
      "17.25651526451111\n",
      "0.6587648159700562\n",
      "530\n",
      "16.84907841682434\n",
      "0.6861404599129896\n",
      "531\n",
      "16.339299201965332\n",
      "0.6666666666666666\n",
      "532\n",
      "22.990999937057495\n",
      "0.6759878419452886\n",
      "533\n",
      "18.11572504043579\n",
      "0.38422649140546\n",
      "534\n",
      "17.043366193771362\n",
      "0.6708253358925145\n",
      "535\n",
      "15.998150825500488\n",
      "0.6666666666666666\n",
      "536\n"
     ]
    },
    {
     "name": "stderr",
     "output_type": "stream",
     "text": [
      "/lab/dbms/fatyanosa/.userprogram/anaconda3/envs/GA-CNN/lib/python3.7/site-packages/sklearn/metrics/_classification.py:1272: UndefinedMetricWarning: Precision is ill-defined and being set to 0.0 due to no predicted samples. Use `zero_division` parameter to control this behavior.\n",
      "  _warn_prf(average, modifier, msg_start, len(result))\n"
     ]
    },
    {
     "name": "stdout",
     "output_type": "stream",
     "text": [
      "19.356213808059692\n",
      "0.0\n",
      "537\n",
      "72.47101330757141\n",
      "0.527306967984934\n",
      "538\n",
      "25.969751834869385\n",
      "0.6979434447300771\n",
      "539\n",
      "19.848778009414673\n",
      "0.6730954676952748\n",
      "540\n",
      "19.767345666885376\n",
      "0.49180327868852464\n",
      "541\n",
      "11.304532766342163\n",
      "0.6666666666666666\n",
      "542\n"
     ]
    },
    {
     "name": "stderr",
     "output_type": "stream",
     "text": [
      "/lab/dbms/fatyanosa/.userprogram/anaconda3/envs/GA-CNN/lib/python3.7/site-packages/sklearn/metrics/_classification.py:1272: UndefinedMetricWarning: Precision is ill-defined and being set to 0.0 due to no predicted samples. Use `zero_division` parameter to control this behavior.\n",
      "  _warn_prf(average, modifier, msg_start, len(result))\n"
     ]
    },
    {
     "name": "stdout",
     "output_type": "stream",
     "text": [
      "10.980063676834106\n",
      "0.0\n",
      "543\n",
      "10.70161771774292\n",
      "0.649789029535865\n",
      "544\n",
      "11.101035833358765\n",
      "0.1498216409036861\n",
      "545\n",
      "11.54192042350769\n",
      "0.29097963142580013\n",
      "546\n",
      "14.721495628356934\n",
      "0.6666666666666666\n",
      "547\n",
      "40.03413009643555\n",
      "0.12358133669609078\n",
      "548\n",
      "90.5841715335846\n",
      "0.6367476240760296\n",
      "549\n",
      "14.814409971237183\n",
      "0.0\n",
      "550\n",
      "15.099876165390015\n",
      "0.03187250996015936\n",
      "551\n"
     ]
    },
    {
     "name": "stderr",
     "output_type": "stream",
     "text": [
      "/lab/dbms/fatyanosa/.userprogram/anaconda3/envs/GA-CNN/lib/python3.7/site-packages/sklearn/metrics/_classification.py:1272: UndefinedMetricWarning: Precision is ill-defined and being set to 0.0 due to no predicted samples. Use `zero_division` parameter to control this behavior.\n",
      "  _warn_prf(average, modifier, msg_start, len(result))\n"
     ]
    },
    {
     "name": "stdout",
     "output_type": "stream",
     "text": [
      "18.00852346420288\n",
      "0.0\n",
      "552\n",
      "18.24520492553711\n",
      "0.6666666666666666\n",
      "553\n",
      "18.22231411933899\n",
      "0.6693467336683417\n",
      "554\n",
      "18.131080389022827\n",
      "0.0028089887640449437\n",
      "555\n",
      "18.453277111053467\n",
      "0.0028089887640449437\n",
      "556\n",
      "11.29622483253479\n",
      "0.008534850640113799\n",
      "557\n",
      "17.904540061950684\n",
      "0.6351145038167939\n",
      "558\n",
      "11.113051652908325\n",
      "0.6646556058320764\n",
      "559\n",
      "12.232557773590088\n",
      "0.6666666666666666\n",
      "560\n",
      "11.436226844787598\n",
      "0.6692759295499021\n",
      "561\n",
      "38.260480880737305\n",
      "0.6666666666666666\n",
      "562\n",
      "39.72334432601929\n",
      "0.6298276886512181\n",
      "563\n",
      "14.777292490005493\n",
      "0.6679592825981581\n",
      "564\n",
      "14.882222414016724\n",
      "0.6666666666666666\n",
      "565\n",
      "17.149107933044434\n",
      "0.654042988741044\n",
      "566\n"
     ]
    },
    {
     "name": "stderr",
     "output_type": "stream",
     "text": [
      "/lab/dbms/fatyanosa/.userprogram/anaconda3/envs/GA-CNN/lib/python3.7/site-packages/sklearn/metrics/_classification.py:1272: UndefinedMetricWarning: Precision is ill-defined and being set to 0.0 due to no predicted samples. Use `zero_division` parameter to control this behavior.\n",
      "  _warn_prf(average, modifier, msg_start, len(result))\n"
     ]
    },
    {
     "name": "stdout",
     "output_type": "stream",
     "text": [
      "18.757251977920532\n",
      "0.0\n",
      "567\n",
      "19.730428218841553\n",
      "0.5970326409495548\n",
      "568\n",
      "75.96895813941956\n",
      "0.6323440339188371\n",
      "569\n",
      "29.30513286590576\n",
      "0.6273684210526316\n",
      "570\n",
      "18.474119424819946\n",
      "0.038461538461538464\n",
      "571\n"
     ]
    },
    {
     "name": "stderr",
     "output_type": "stream",
     "text": [
      "/lab/dbms/fatyanosa/.userprogram/anaconda3/envs/GA-CNN/lib/python3.7/site-packages/sklearn/metrics/_classification.py:1272: UndefinedMetricWarning: Precision is ill-defined and being set to 0.0 due to no predicted samples. Use `zero_division` parameter to control this behavior.\n",
      "  _warn_prf(average, modifier, msg_start, len(result))\n"
     ]
    },
    {
     "name": "stdout",
     "output_type": "stream",
     "text": [
      "12.706698179244995\n",
      "0.0\n",
      "572\n",
      "12.696239948272705\n",
      "0.6465067778936392\n",
      "573\n",
      "53.37328481674194\n",
      "0.6431893687707642\n",
      "574\n",
      "15.787983655929565\n",
      "0.5854014598540146\n",
      "575\n",
      "12.557998895645142\n",
      "0.6055461233729486\n",
      "576\n",
      "26.135026454925537\n",
      "0.3200883002207506\n",
      "577\n",
      "28.088783740997314\n",
      "0.5931558935361217\n",
      "578\n",
      "17.019962072372437\n",
      "0.6666666666666666\n",
      "579\n",
      "18.359277963638306\n",
      "0.470404984423676\n",
      "580\n",
      "19.64937138557434\n",
      "0.6717998075072183\n",
      "581\n"
     ]
    },
    {
     "name": "stderr",
     "output_type": "stream",
     "text": [
      "/lab/dbms/fatyanosa/.userprogram/anaconda3/envs/GA-CNN/lib/python3.7/site-packages/sklearn/metrics/_classification.py:1272: UndefinedMetricWarning: Precision is ill-defined and being set to 0.0 due to no predicted samples. Use `zero_division` parameter to control this behavior.\n",
      "  _warn_prf(average, modifier, msg_start, len(result))\n"
     ]
    },
    {
     "name": "stdout",
     "output_type": "stream",
     "text": [
      "21.31582522392273\n",
      "0.0\n",
      "582\n",
      "21.74009895324707\n",
      "0.672926447574335\n",
      "583\n",
      "21.372230052947998\n",
      "0.6461716937354988\n",
      "584\n",
      "24.062679767608643\n",
      "0.5396113602391628\n",
      "585\n",
      "21.60379433631897\n",
      "0.6666666666666666\n",
      "586\n"
     ]
    },
    {
     "name": "stderr",
     "output_type": "stream",
     "text": [
      "/lab/dbms/fatyanosa/.userprogram/anaconda3/envs/GA-CNN/lib/python3.7/site-packages/sklearn/metrics/_classification.py:1272: UndefinedMetricWarning: Precision is ill-defined and being set to 0.0 due to no predicted samples. Use `zero_division` parameter to control this behavior.\n",
      "  _warn_prf(average, modifier, msg_start, len(result))\n"
     ]
    },
    {
     "name": "stdout",
     "output_type": "stream",
     "text": [
      "12.652813911437988\n",
      "0.0\n",
      "587\n"
     ]
    },
    {
     "name": "stderr",
     "output_type": "stream",
     "text": [
      "/lab/dbms/fatyanosa/.userprogram/anaconda3/envs/GA-CNN/lib/python3.7/site-packages/sklearn/metrics/_classification.py:1272: UndefinedMetricWarning: Precision is ill-defined and being set to 0.0 due to no predicted samples. Use `zero_division` parameter to control this behavior.\n",
      "  _warn_prf(average, modifier, msg_start, len(result))\n"
     ]
    },
    {
     "name": "stdout",
     "output_type": "stream",
     "text": [
      "12.673783540725708\n",
      "0.0\n",
      "588\n",
      "23.227553606033325\n",
      "0.6386946386946387\n",
      "589\n",
      "20.11075472831726\n",
      "0.7073030477285795\n",
      "590\n"
     ]
    },
    {
     "name": "stderr",
     "output_type": "stream",
     "text": [
      "/lab/dbms/fatyanosa/.userprogram/anaconda3/envs/GA-CNN/lib/python3.7/site-packages/sklearn/metrics/_classification.py:1272: UndefinedMetricWarning: Precision is ill-defined and being set to 0.0 due to no predicted samples. Use `zero_division` parameter to control this behavior.\n",
      "  _warn_prf(average, modifier, msg_start, len(result))\n"
     ]
    },
    {
     "name": "stdout",
     "output_type": "stream",
     "text": [
      "13.112149000167847\n",
      "0.0\n",
      "591\n",
      "17.042609691619873\n",
      "0.6666666666666666\n",
      "592\n",
      "22.82482886314392\n",
      "0.7020357803824798\n",
      "593\n",
      "16.88232970237732\n",
      "0.675100632547441\n",
      "594\n"
     ]
    },
    {
     "name": "stderr",
     "output_type": "stream",
     "text": [
      "/lab/dbms/fatyanosa/.userprogram/anaconda3/envs/GA-CNN/lib/python3.7/site-packages/sklearn/metrics/_classification.py:1272: UndefinedMetricWarning: Precision is ill-defined and being set to 0.0 due to no predicted samples. Use `zero_division` parameter to control this behavior.\n",
      "  _warn_prf(average, modifier, msg_start, len(result))\n"
     ]
    },
    {
     "name": "stdout",
     "output_type": "stream",
     "text": [
      "17.32682204246521\n",
      "0.0\n",
      "595\n",
      "17.760584354400635\n",
      "0.6401617250673854\n",
      "596\n",
      "21.50754690170288\n",
      "0.6666666666666666\n",
      "597\n",
      "34.11206674575806\n",
      "0.6301587301587303\n",
      "598\n",
      "24.17583441734314\n",
      "0.6153846153846154\n",
      "599\n"
     ]
    },
    {
     "name": "stderr",
     "output_type": "stream",
     "text": [
      "/lab/dbms/fatyanosa/.userprogram/anaconda3/envs/GA-CNN/lib/python3.7/site-packages/sklearn/metrics/_classification.py:1272: UndefinedMetricWarning: Precision is ill-defined and being set to 0.0 due to no predicted samples. Use `zero_division` parameter to control this behavior.\n",
      "  _warn_prf(average, modifier, msg_start, len(result))\n"
     ]
    },
    {
     "name": "stdout",
     "output_type": "stream",
     "text": [
      "21.533156871795654\n",
      "0.0\n",
      "600\n",
      "21.640758752822876\n",
      "0.0\n"
     ]
    },
    {
     "name": "stderr",
     "output_type": "stream",
     "text": [
      "/lab/dbms/fatyanosa/.userprogram/anaconda3/envs/GA-CNN/lib/python3.7/site-packages/sklearn/metrics/_classification.py:1272: UndefinedMetricWarning: Precision is ill-defined and being set to 0.0 due to no predicted samples. Use `zero_division` parameter to control this behavior.\n",
      "  _warn_prf(average, modifier, msg_start, len(result))\n"
     ]
    }
   ],
   "source": [
    "import time\n",
    "import os\n",
    "import csv\n",
    "import tensorflow as tf\n",
    "\n",
    "# Optimized hyperparameters\n",
    "epochs = [100]\n",
    "batch_size = [32, 64, 128, 256]\n",
    "optimizer = ['adam', 'nadam', 'adamax', 'sgd', 'rmsprop']\n",
    "learning_rate = [1e-4, 1e-3]\n",
    "output_dim = [100, 200, 300]\n",
    "conv_activation_func1 = ['sigmoid', 'tanh', 'relu', 'elu', 'selu']\n",
    "\n",
    "combination = [[h, i, j, k, l, m] for h in epochs\n",
    "       for i in batch_size\n",
    "       for j in optimizer\n",
    "       for k in learning_rate\n",
    "       for l in output_dim\n",
    "       for m in conv_activation_func1]\n",
    "\n",
    "# Fixed hyperparameters\n",
    "hyperparameters = {}\n",
    "hyperparameters['momentum'] = 0.9\n",
    "hyperparameters['num_filters1'] = 64\n",
    "hyperparameters['kernel_size1'] = 3\n",
    "hyperparameters['conv_init_mode1'] = 'glorot_uniform'\n",
    "hyperparameters['conv_weight_constraint1'] = 3\n",
    "hyperparameters['dropout_rate1'] = 0.2\n",
    "hyperparameters['neurons1'] = 1\n",
    "hyperparameters['dense_activation_func1'] = 'relu'\n",
    "hyperparameters['dense_init_mode1'] = 'glorot_uniform'\n",
    "hyperparameters['dense_weight_constraint1'] = 3\n",
    "hyperparameters['output_init_mode'] = 'glorot_uniform'\n",
    "hyperparameters['layers'] = ['embedding_layer', 'convolutional_layer', \n",
    "                             'global_maxpooling_layer', 'dense_layer',\n",
    "                              'dropout_layer', 'output_layer']\n",
    "\n",
    "# object class\n",
    "util = utility()\n",
    "cnn = CNN()\n",
    "\n",
    "# Read data\n",
    "dfTraining = util.read_CSV(datasetPath + dataTraining)\n",
    "dfTesting = util.read_CSV(datasetPath + dataTesting)\n",
    "\n",
    "# get texts and labels\n",
    "textsTraining, y_train = util.get_text_label(dfTraining)\n",
    "textsTesting, y_test = util.get_text_label(dfTesting)\n",
    "\n",
    "# Tokenize words\n",
    "tokenizer = util.tokenize_texts(textsTraining)\n",
    "X_train = tokenizer.texts_to_sequences(textsTraining)\n",
    "X_test = tokenizer.texts_to_sequences(textsTesting)\n",
    "\n",
    "# Adding 1 because of reserved 0 index\n",
    "vocab_size = len(tokenizer.word_index) + 1\n",
    "\n",
    "# get maxlen\n",
    "maxlen = util.get_max_length_of_sentences(textsTraining)\n",
    "\n",
    "# Pad sequences with zeros\n",
    "X_train = util.padding_texts(X_train, maxlen)\n",
    "X_test = util.padding_texts(X_test, maxlen)\n",
    "\n",
    "\n",
    "# Create Testing Results\n",
    "f = open(resultsPath + testing_name + \".csv\", \"a+\")\n",
    "f.write(\"i,epochs,batch_size,optimizer,learning_rate,output_dim,conv_activation_func1,accuracy,precision,recall,f1Score,time\\n\")\n",
    "f.close()\n",
    "\n",
    "for i in range(len(combination)):\n",
    "    print(str(i + 1))\n",
    "    hyperparameters['epochs'] = combination[i][0]\n",
    "    hyperparameters['batch_size'] = combination[i][1]\n",
    "    hyperparameters['optimizer'] = combination[i][2]\n",
    "    hyperparameters['learning_rate'] = combination[i][3]\n",
    "    hyperparameters['output_dim'] = combination[i][4]\n",
    "    hyperparameters['conv_activation_func1'] = combination[i][5]\n",
    "\n",
    "    if int(hyperparameters['output_dim']) == 50:\n",
    "        glove = glovePath[0]\n",
    "    elif int(hyperparameters['output_dim']) == 100:\n",
    "        glove = glovePath[1]\n",
    "    elif int(hyperparameters['output_dim']) == 200:\n",
    "        glove = glovePath[2]\n",
    "    elif int(hyperparameters['output_dim']) == 300:\n",
    "        glove = glovePath[3]\n",
    "\n",
    "    embedding_matrix = util.create_embedding_matrix(glove, tokenizer.word_index, int(hyperparameters['output_dim']))\n",
    "\n",
    "    then = time.time()\n",
    "    # grid search\n",
    "    model = cnn.cnn_model(vocab_size, maxlen, embedding_matrix, hyperparameters, hyperparameters['layers'])\n",
    "\n",
    "    #early stopping\n",
    "    callbacks = [tf.keras.callbacks.EarlyStopping(monitor='val_f1_m', mode='max', verbose=False, patience=10)]\n",
    "\n",
    "    #save the best model\n",
    "    callbacks += [tf.keras.callbacks.ModelCheckpoint(archPath + testing_name + str(i + 1) + \".h5\", monitor='val_f1_m', mode='max', verbose=False, save_best_only=True)]\n",
    "    \n",
    "    class_weight = {0: 0.25,\n",
    "                    1: 0.75}\n",
    "    \n",
    "#     model.summary()\n",
    "    y_train = np.uint8(y_train)\n",
    "    y_test = np.uint8(y_test)\n",
    "    model.fit(X_train, y_train, epochs=hyperparameters['epochs'], verbose=False, validation_data=(X_test, y_test),\n",
    "              batch_size=hyperparameters['batch_size'], callbacks=callbacks, class_weight=class_weight)\n",
    "    \n",
    "    # save model to a file\n",
    "    # model.save(archPath + testing_name + str(i + 1) + \".h5\")\n",
    "\n",
    "    dependencies = {\n",
    "    'f1_m': util.f1_m\n",
    "    }\n",
    "\n",
    "    # load the saved model\n",
    "    saved_model = tf.keras.models.load_model(archPath + testing_name + str(i + 1) + \".h5\", custom_objects=dependencies)   \n",
    "\n",
    "    y_pred = saved_model.predict_classes(X_test)    \n",
    "\n",
    "    # CNN metrics\n",
    "    accuracyScore, precisionScoreBinary, recallScoreBinary, f1ScoreBinary = util.get_testing_metric(y_test, y_pred)\n",
    "\n",
    "    now = time.time()\n",
    "    diff = now - then\n",
    "    print(diff)\n",
    "    print(f1ScoreBinary)\n",
    "\n",
    "    # save testing data\n",
    "    f = open(resultsPath + testing_name + \".csv\", 'a')\n",
    "    f.write(str(i + 1)\n",
    "            + ',' + str(hyperparameters['epochs'])\n",
    "            + ',' + str(hyperparameters['batch_size'])\n",
    "            + ',' + str(hyperparameters['optimizer'])\n",
    "            + ',' + str(hyperparameters['learning_rate'])\n",
    "            + ',' + str(hyperparameters['output_dim'])\n",
    "            + ',' + str(hyperparameters['conv_activation_func1'])\n",
    "            + ',' + str(accuracyScore)\n",
    "            + ',' + str(precisionScoreBinary)\n",
    "            + ',' + str(recallScoreBinary)\n",
    "            + ',' + str(f1ScoreBinary)\n",
    "            + ',' + str(diff) + '\\n')\n",
    "    f.close()"
   ]
  },
  {
   "cell_type": "code",
   "execution_count": null,
   "metadata": {},
   "outputs": [
    {
     "data": {
      "application/javascript": [
       "Jupyter.notebook.session.delete();\n"
      ],
      "text/plain": [
       "<IPython.core.display.Javascript object>"
      ]
     },
     "metadata": {},
     "output_type": "display_data"
    }
   ],
   "source": [
    "%%javascript\n",
    "Jupyter.notebook.session.delete();"
   ]
  }
 ],
 "metadata": {
  "accelerator": "GPU",
  "colab": {
   "collapsed_sections": [],
   "machine_shape": "hm",
   "name": "GridSearchTrainVal.ipynb",
   "provenance": []
  },
  "kernelspec": {
   "display_name": "Python 3",
   "language": "python",
   "name": "python3"
  },
  "language_info": {
   "codemirror_mode": {
    "name": "ipython",
    "version": 3
   },
   "file_extension": ".py",
   "mimetype": "text/x-python",
   "name": "python",
   "nbconvert_exporter": "python",
   "pygments_lexer": "ipython3",
   "version": "3.7.6"
  }
 },
 "nbformat": 4,
 "nbformat_minor": 1
}
